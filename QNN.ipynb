{
 "cells": [
  {
   "cell_type": "markdown",
   "metadata": {
    "colab_type": "text",
    "id": "l8RAZK4ylsVb"
   },
   "source": [
    "\n",
    "## **Quanvolutional Neural Networks**\n",
    "\n"
   ]
  },
  {
   "cell_type": "code",
   "execution_count": 2,
   "metadata": {
    "colab": {
     "base_uri": "https://localhost:8080/",
     "height": 308
    },
    "colab_type": "code",
    "id": "ozB6DaHsB_7S",
    "outputId": "3e434168-d42a-40ad-f6b0-a1f07bf17baf"
   },
   "outputs": [
    {
     "name": "stdout",
     "output_type": "stream",
     "text": [
      "Requirement already up-to-date: pennylane in c:\\users\\mohamedyassineferjan\\anaconda3\\lib\\site-packages (0.11.0)\n",
      "Requirement already satisfied, skipping upgrade: semantic-version==2.6 in c:\\users\\mohamedyassineferjan\\anaconda3\\lib\\site-packages (from pennylane) (2.6.0)\n",
      "Requirement already satisfied, skipping upgrade: scipy in c:\\users\\mohamedyassineferjan\\anaconda3\\lib\\site-packages (from pennylane) (1.4.1)\n",
      "Requirement already satisfied, skipping upgrade: networkx in c:\\users\\mohamedyassineferjan\\anaconda3\\lib\\site-packages (from pennylane) (2.4)\n",
      "Requirement already satisfied, skipping upgrade: toml in c:\\users\\mohamedyassineferjan\\anaconda3\\lib\\site-packages (from pennylane) (0.10.1)\n",
      "Requirement already satisfied, skipping upgrade: numpy in c:\\users\\mohamedyassineferjan\\anaconda3\\lib\\site-packages (from pennylane) (1.17.0)\n",
      "Requirement already satisfied, skipping upgrade: appdirs in c:\\users\\mohamedyassineferjan\\anaconda3\\lib\\site-packages (from pennylane) (1.4.4)\n",
      "Requirement already satisfied, skipping upgrade: autograd in c:\\users\\mohamedyassineferjan\\anaconda3\\lib\\site-packages (from pennylane) (1.3)\n",
      "Requirement already satisfied, skipping upgrade: decorator>=4.3.0 in c:\\users\\mohamedyassineferjan\\anaconda3\\lib\\site-packages (from networkx->pennylane) (4.4.2)\n",
      "Requirement already satisfied, skipping upgrade: future>=0.15.2 in c:\\users\\mohamedyassineferjan\\anaconda3\\lib\\site-packages (from autograd->pennylane) (0.18.2)\n",
      "Note: you may need to restart the kernel to use updated packages.\n"
     ]
    }
   ],
   "source": [
    "pip install pennylane --upgrade"
   ]
  },
  {
   "cell_type": "code",
   "execution_count": 3,
   "metadata": {
    "colab": {
     "base_uri": "https://localhost:8080/",
     "height": 1000
    },
    "colab_type": "code",
    "id": "vfNx1hGlMJbh",
    "outputId": "5879245a-6d62-48f2-fa3f-b836df4433f2"
   },
   "outputs": [
    {
     "name": "stdout",
     "output_type": "stream",
     "text": [
      "Requirement already satisfied: pennylane-qiskit in c:\\users\\mohamedyassineferjan\\anaconda3\\lib\\site-packages (0.9.0)\n",
      "Requirement already satisfied: qiskit>=0.19.1 in c:\\users\\mohamedyassineferjan\\anaconda3\\lib\\site-packages (from pennylane-qiskit) (0.19.6)\n",
      "Requirement already satisfied: numpy in c:\\users\\mohamedyassineferjan\\anaconda3\\lib\\site-packages (from pennylane-qiskit) (1.17.0)\n",
      "Requirement already satisfied: networkx>=2.2; python_version > \"3.5\" in c:\\users\\mohamedyassineferjan\\anaconda3\\lib\\site-packages (from pennylane-qiskit) (2.4)\n",
      "Requirement already satisfied: pennylane>=0.9.0 in c:\\users\\mohamedyassineferjan\\anaconda3\\lib\\site-packages (from pennylane-qiskit) (0.11.0)\n",
      "Requirement already satisfied: qiskit-terra==0.14.2 in c:\\users\\mohamedyassineferjan\\anaconda3\\lib\\site-packages (from qiskit>=0.19.1->pennylane-qiskit) (0.14.2)\n",
      "Requirement already satisfied: qiskit-ibmq-provider==0.7.2 in c:\\users\\mohamedyassineferjan\\anaconda3\\lib\\site-packages (from qiskit>=0.19.1->pennylane-qiskit) (0.7.2)\n",
      "Requirement already satisfied: qiskit-aqua==0.7.3 in c:\\users\\mohamedyassineferjan\\anaconda3\\lib\\site-packages (from qiskit>=0.19.1->pennylane-qiskit) (0.7.3)\n",
      "Requirement already satisfied: qiskit-ignis==0.3.3 in c:\\users\\mohamedyassineferjan\\anaconda3\\lib\\site-packages (from qiskit>=0.19.1->pennylane-qiskit) (0.3.3)\n",
      "Requirement already satisfied: qiskit-aer==0.5.2 in c:\\users\\mohamedyassineferjan\\anaconda3\\lib\\site-packages (from qiskit>=0.19.1->pennylane-qiskit) (0.5.2)\n",
      "Requirement already satisfied: decorator>=4.3.0 in c:\\users\\mohamedyassineferjan\\anaconda3\\lib\\site-packages (from networkx>=2.2; python_version > \"3.5\"->pennylane-qiskit) (4.4.2)\n",
      "Requirement already satisfied: scipy in c:\\users\\mohamedyassineferjan\\anaconda3\\lib\\site-packages (from pennylane>=0.9.0->pennylane-qiskit) (1.4.1)\n",
      "Requirement already satisfied: autograd in c:\\users\\mohamedyassineferjan\\anaconda3\\lib\\site-packages (from pennylane>=0.9.0->pennylane-qiskit) (1.3)\n",
      "Requirement already satisfied: appdirs in c:\\users\\mohamedyassineferjan\\anaconda3\\lib\\site-packages (from pennylane>=0.9.0->pennylane-qiskit) (1.4.4)\n",
      "Requirement already satisfied: semantic-version==2.6 in c:\\users\\mohamedyassineferjan\\anaconda3\\lib\\site-packages (from pennylane>=0.9.0->pennylane-qiskit) (2.6.0)\n",
      "Requirement already satisfied: toml in c:\\users\\mohamedyassineferjan\\anaconda3\\lib\\site-packages (from pennylane>=0.9.0->pennylane-qiskit) (0.10.1)\n",
      "Requirement already satisfied: dill>=0.3 in c:\\users\\mohamedyassineferjan\\anaconda3\\lib\\site-packages (from qiskit-terra==0.14.2->qiskit>=0.19.1->pennylane-qiskit) (0.3.2)\n",
      "Requirement already satisfied: marshmallow-polyfield<6,>=5.7 in c:\\users\\mohamedyassineferjan\\anaconda3\\lib\\site-packages (from qiskit-terra==0.14.2->qiskit>=0.19.1->pennylane-qiskit) (5.9)\n",
      "Requirement already satisfied: fastjsonschema>=2.10 in c:\\users\\mohamedyassineferjan\\anaconda3\\lib\\site-packages (from qiskit-terra==0.14.2->qiskit>=0.19.1->pennylane-qiskit) (2.14.4)\n",
      "Requirement already satisfied: ply>=3.10 in c:\\users\\mohamedyassineferjan\\anaconda3\\lib\\site-packages (from qiskit-terra==0.14.2->qiskit>=0.19.1->pennylane-qiskit) (3.11)\n",
      "Requirement already satisfied: sympy>=1.3 in c:\\users\\mohamedyassineferjan\\anaconda3\\lib\\site-packages (from qiskit-terra==0.14.2->qiskit>=0.19.1->pennylane-qiskit) (1.4)\n",
      "Requirement already satisfied: marshmallow<4,>=3 in c:\\users\\mohamedyassineferjan\\anaconda3\\lib\\site-packages (from qiskit-terra==0.14.2->qiskit>=0.19.1->pennylane-qiskit) (3.7.1)\n",
      "Requirement already satisfied: python-constraint>=1.4 in c:\\users\\mohamedyassineferjan\\anaconda3\\lib\\site-packages (from qiskit-terra==0.14.2->qiskit>=0.19.1->pennylane-qiskit) (1.4.0)\n",
      "Requirement already satisfied: retworkx>=0.3.2 in c:\\users\\mohamedyassineferjan\\anaconda3\\lib\\site-packages (from qiskit-terra==0.14.2->qiskit>=0.19.1->pennylane-qiskit) (0.4.0)\n",
      "Requirement already satisfied: python-dateutil>=2.8.0 in c:\\users\\mohamedyassineferjan\\anaconda3\\lib\\site-packages (from qiskit-terra==0.14.2->qiskit>=0.19.1->pennylane-qiskit) (2.8.1)\n",
      "Requirement already satisfied: jsonschema>=2.6 in c:\\users\\mohamedyassineferjan\\anaconda3\\lib\\site-packages (from qiskit-terra==0.14.2->qiskit>=0.19.1->pennylane-qiskit) (3.2.0)\n",
      "Requirement already satisfied: psutil>=5 in c:\\users\\mohamedyassineferjan\\anaconda3\\lib\\site-packages (from qiskit-terra==0.14.2->qiskit>=0.19.1->pennylane-qiskit) (5.7.0)\n",
      "Requirement already satisfied: urllib3>=1.21.1 in c:\\users\\mohamedyassineferjan\\anaconda3\\lib\\site-packages (from qiskit-ibmq-provider==0.7.2->qiskit>=0.19.1->pennylane-qiskit) (1.25.9)\n",
      "Requirement already satisfied: requests-ntlm>=1.1.0 in c:\\users\\mohamedyassineferjan\\anaconda3\\lib\\site-packages (from qiskit-ibmq-provider==0.7.2->qiskit>=0.19.1->pennylane-qiskit) (1.1.0)\n",
      "Requirement already satisfied: websockets<8,>=7 in c:\\users\\mohamedyassineferjan\\anaconda3\\lib\\site-packages (from qiskit-ibmq-provider==0.7.2->qiskit>=0.19.1->pennylane-qiskit) (7.0)\n",
      "Requirement already satisfied: nest-asyncio!=1.1.0,>=1.0.0 in c:\\users\\mohamedyassineferjan\\anaconda3\\lib\\site-packages (from qiskit-ibmq-provider==0.7.2->qiskit>=0.19.1->pennylane-qiskit) (1.4.0)\n",
      "Requirement already satisfied: requests>=2.19 in c:\\users\\mohamedyassineferjan\\anaconda3\\lib\\site-packages (from qiskit-ibmq-provider==0.7.2->qiskit>=0.19.1->pennylane-qiskit) (2.24.0)\n",
      "Requirement already satisfied: fastdtw in c:\\users\\mohamedyassineferjan\\anaconda3\\lib\\site-packages (from qiskit-aqua==0.7.3->qiskit>=0.19.1->pennylane-qiskit) (0.3.4)\n",
      "Requirement already satisfied: quandl in c:\\users\\mohamedyassineferjan\\anaconda3\\lib\\site-packages (from qiskit-aqua==0.7.3->qiskit>=0.19.1->pennylane-qiskit) (3.5.2)\n",
      "Requirement already satisfied: dlx in c:\\users\\mohamedyassineferjan\\anaconda3\\lib\\site-packages (from qiskit-aqua==0.7.3->qiskit>=0.19.1->pennylane-qiskit) (1.0.4)\n",
      "Requirement already satisfied: scikit-learn>=0.20.0 in c:\\users\\mohamedyassineferjan\\anaconda3\\lib\\site-packages (from qiskit-aqua==0.7.3->qiskit>=0.19.1->pennylane-qiskit) (0.23.1)\n",
      "Requirement already satisfied: h5py in c:\\users\\mohamedyassineferjan\\anaconda3\\lib\\site-packages (from qiskit-aqua==0.7.3->qiskit>=0.19.1->pennylane-qiskit) (2.10.0)\n",
      "Requirement already satisfied: docplex in c:\\users\\mohamedyassineferjan\\anaconda3\\lib\\site-packages (from qiskit-aqua==0.7.3->qiskit>=0.19.1->pennylane-qiskit) (2.15.194)\n",
      "Requirement already satisfied: setuptools>=40.1.0 in c:\\users\\mohamedyassineferjan\\anaconda3\\lib\\site-packages (from qiskit-aqua==0.7.3->qiskit>=0.19.1->pennylane-qiskit) (49.2.0.post20200714)\n",
      "Requirement already satisfied: pybind11>=2.4 in c:\\users\\mohamedyassineferjan\\anaconda3\\lib\\site-packages (from qiskit-aer==0.5.2->qiskit>=0.19.1->pennylane-qiskit) (2.5.0)\n",
      "Requirement already satisfied: cython>=0.27.1 in c:\\users\\mohamedyassineferjan\\anaconda3\\lib\\site-packages (from qiskit-aer==0.5.2->qiskit>=0.19.1->pennylane-qiskit) (0.29.21)\n",
      "Requirement already satisfied: future>=0.15.2 in c:\\users\\mohamedyassineferjan\\anaconda3\\lib\\site-packages (from autograd->pennylane>=0.9.0->pennylane-qiskit) (0.18.2)\n",
      "Requirement already satisfied: mpmath>=0.19 in c:\\users\\mohamedyassineferjan\\anaconda3\\lib\\site-packages (from sympy>=1.3->qiskit-terra==0.14.2->qiskit>=0.19.1->pennylane-qiskit) (1.1.0)\n",
      "Requirement already satisfied: six>=1.5 in c:\\users\\mohamedyassineferjan\\anaconda3\\lib\\site-packages (from python-dateutil>=2.8.0->qiskit-terra==0.14.2->qiskit>=0.19.1->pennylane-qiskit) (1.15.0)\n",
      "Requirement already satisfied: pyrsistent>=0.14.0 in c:\\users\\mohamedyassineferjan\\anaconda3\\lib\\site-packages (from jsonschema>=2.6->qiskit-terra==0.14.2->qiskit>=0.19.1->pennylane-qiskit) (0.16.0)\n",
      "Requirement already satisfied: importlib-metadata; python_version < \"3.8\" in c:\\users\\mohamedyassineferjan\\anaconda3\\lib\\site-packages (from jsonschema>=2.6->qiskit-terra==0.14.2->qiskit>=0.19.1->pennylane-qiskit) (1.7.0)\n",
      "Requirement already satisfied: attrs>=17.4.0 in c:\\users\\mohamedyassineferjan\\anaconda3\\lib\\site-packages (from jsonschema>=2.6->qiskit-terra==0.14.2->qiskit>=0.19.1->pennylane-qiskit) (19.3.0)\n",
      "Requirement already satisfied: ntlm-auth>=1.0.2 in c:\\users\\mohamedyassineferjan\\anaconda3\\lib\\site-packages (from requests-ntlm>=1.1.0->qiskit-ibmq-provider==0.7.2->qiskit>=0.19.1->pennylane-qiskit) (1.5.0)\n",
      "Requirement already satisfied: cryptography>=1.3 in c:\\users\\mohamedyassineferjan\\anaconda3\\lib\\site-packages (from requests-ntlm>=1.1.0->qiskit-ibmq-provider==0.7.2->qiskit>=0.19.1->pennylane-qiskit) (2.9.2)\n",
      "Requirement already satisfied: idna<3,>=2.5 in c:\\users\\mohamedyassineferjan\\anaconda3\\lib\\site-packages (from requests>=2.19->qiskit-ibmq-provider==0.7.2->qiskit>=0.19.1->pennylane-qiskit) (2.10)\n",
      "Requirement already satisfied: chardet<4,>=3.0.2 in c:\\users\\mohamedyassineferjan\\anaconda3\\lib\\site-packages (from requests>=2.19->qiskit-ibmq-provider==0.7.2->qiskit>=0.19.1->pennylane-qiskit) (3.0.4)\n",
      "Requirement already satisfied: certifi>=2017.4.17 in c:\\users\\mohamedyassineferjan\\anaconda3\\lib\\site-packages (from requests>=2.19->qiskit-ibmq-provider==0.7.2->qiskit>=0.19.1->pennylane-qiskit) (2020.6.20)\n",
      "Requirement already satisfied: more-itertools in c:\\users\\mohamedyassineferjan\\anaconda3\\lib\\site-packages (from quandl->qiskit-aqua==0.7.3->qiskit>=0.19.1->pennylane-qiskit) (8.4.0)\n",
      "Requirement already satisfied: pandas>=0.14 in c:\\users\\mohamedyassineferjan\\anaconda3\\lib\\site-packages (from quandl->qiskit-aqua==0.7.3->qiskit>=0.19.1->pennylane-qiskit) (1.0.5)\n",
      "Requirement already satisfied: inflection>=0.3.1 in c:\\users\\mohamedyassineferjan\\anaconda3\\lib\\site-packages (from quandl->qiskit-aqua==0.7.3->qiskit>=0.19.1->pennylane-qiskit) (0.5.0)\n",
      "Requirement already satisfied: joblib>=0.11 in c:\\users\\mohamedyassineferjan\\anaconda3\\lib\\site-packages (from scikit-learn>=0.20.0->qiskit-aqua==0.7.3->qiskit>=0.19.1->pennylane-qiskit) (0.16.0)\n",
      "Requirement already satisfied: threadpoolctl>=2.0.0 in c:\\users\\mohamedyassineferjan\\anaconda3\\lib\\site-packages (from scikit-learn>=0.20.0->qiskit-aqua==0.7.3->qiskit>=0.19.1->pennylane-qiskit) (2.1.0)\n",
      "Requirement already satisfied: zipp>=0.5 in c:\\users\\mohamedyassineferjan\\anaconda3\\lib\\site-packages (from importlib-metadata; python_version < \"3.8\"->jsonschema>=2.6->qiskit-terra==0.14.2->qiskit>=0.19.1->pennylane-qiskit) (3.1.0)\n",
      "Requirement already satisfied: cffi!=1.11.3,>=1.8 in c:\\users\\mohamedyassineferjan\\anaconda3\\lib\\site-packages (from cryptography>=1.3->requests-ntlm>=1.1.0->qiskit-ibmq-provider==0.7.2->qiskit>=0.19.1->pennylane-qiskit) (1.14.0)\n",
      "Requirement already satisfied: pytz>=2017.2 in c:\\users\\mohamedyassineferjan\\anaconda3\\lib\\site-packages (from pandas>=0.14->quandl->qiskit-aqua==0.7.3->qiskit>=0.19.1->pennylane-qiskit) (2020.1)\n",
      "Requirement already satisfied: pycparser in c:\\users\\mohamedyassineferjan\\anaconda3\\lib\\site-packages (from cffi!=1.11.3,>=1.8->cryptography>=1.3->requests-ntlm>=1.1.0->qiskit-ibmq-provider==0.7.2->qiskit>=0.19.1->pennylane-qiskit) (2.20)\n",
      "Note: you may need to restart the kernel to use updated packages.\n"
     ]
    }
   ],
   "source": [
    "pip install pennylane-qiskit"
   ]
  },
  {
   "cell_type": "code",
   "execution_count": 4,
   "metadata": {
    "colab": {},
    "colab_type": "code",
    "id": "qwQnQY9mCsi7"
   },
   "outputs": [],
   "source": [
    "import pennylane as qml\n",
    "from pennylane import numpy as np\n",
    "from pennylane.templates import RandomLayers\n",
    "import tensorflow as tf\n",
    "from tensorflow import keras\n",
    "import matplotlib.pyplot as plt"
   ]
  },
  {
   "cell_type": "markdown",
   "metadata": {
    "colab_type": "text",
    "id": "UWmx45UBC1RG"
   },
   "source": [
    "Setting of the main hyper-parameters of the model\n",
    "\n"
   ]
  },
  {
   "cell_type": "code",
   "execution_count": 5,
   "metadata": {
    "colab": {},
    "colab_type": "code",
    "id": "SLG8QWpLC7id"
   },
   "outputs": [],
   "source": [
    "n_epochs = 30   # Number of optimization epochs\n",
    "n_layers = 1    # Number of random layers\n",
    "n_train = 50    # Size of the train dataset\n",
    "n_test = 30     # Size of the test dataset\n",
    "\n",
    "SAVE_PATH = \"quanvolution/\" # Data saving folder\n",
    "PREPROCESS = True           # If False, skip quantum processing and load data from SAVE_PATH\n",
    "np.random.seed(0)           # Seed for NumPy random number generator\n",
    "tf.random.set_seed(0)       # Seed for TensorFlow random number generator"
   ]
  },
  {
   "cell_type": "markdown",
   "metadata": {
    "colab_type": "text",
    "id": "rdHEAGkjDprm"
   },
   "source": [
    "\n",
    "## **Loading of the MNIST dataset!**\n",
    "\n"
   ]
  },
  {
   "cell_type": "code",
   "execution_count": 6,
   "metadata": {
    "colab": {},
    "colab_type": "code",
    "id": "zJholJapDJUW"
   },
   "outputs": [],
   "source": [
    "mnist_dataset = keras.datasets.mnist\n",
    "(train_images, train_labels), (test_images, test_labels) = mnist_dataset.load_data()\n",
    "\n",
    "# Reduce dataset size\n",
    "train_images = train_images[:n_train]\n",
    "train_labels = train_labels[:n_train]\n",
    "test_images = test_images[:n_test]\n",
    "test_labels = test_labels[:n_test]\n",
    "\n",
    "# Normalize pixel values within 0 and 1\n",
    "train_images = train_images / 255\n",
    "test_images = test_images / 255\n",
    "\n",
    "# Add extra dimension for convolution channels\n",
    "train_images = train_images[..., tf.newaxis]\n",
    "test_images = test_images[..., tf.newaxis]"
   ]
  },
  {
   "cell_type": "markdown",
   "metadata": {
    "colab_type": "text",
    "id": "py1n9aKAENRV"
   },
   "source": [
    "\n",
    "\n",
    "## **Quanv Layer**"
   ]
  },
  {
   "cell_type": "code",
   "execution_count": 7,
   "metadata": {
    "colab": {},
    "colab_type": "code",
    "id": "PJsEyFE4Dq7J"
   },
   "outputs": [],
   "source": [
    "dev = qml.device(\"default.qubit\", wires=4)"
   ]
  },
  {
   "cell_type": "code",
   "execution_count": 8,
   "metadata": {
    "colab": {},
    "colab_type": "code",
    "id": "M3weur6PFPoB"
   },
   "outputs": [],
   "source": [
    "# Random circuit parameters\n",
    "rand_params = np.random.uniform(high=2 * np.pi, size=(n_layers, 4))\n",
    "\n",
    "\n",
    "\n",
    "@qml.qnode(dev)\n",
    "def circuit(phi=None):\n",
    "    # Encoding of 4 classical input values\n",
    "   \n",
    "    for j in range(4):\n",
    "        qml.RY(np.pi * phi[j], wires=j)\n",
    "\n",
    "    # Random quantum circuit\n",
    "    RandomLayers(rand_params, wires=list(range(4)))\n",
    "\n",
    "    # Measurement producing 4 classical output values\n",
    "    return [qml.expval(qml.PauliZ(j)) for j in range(4)]"
   ]
  },
  {
   "cell_type": "code",
   "execution_count": 9,
   "metadata": {
    "colab": {},
    "colab_type": "code",
    "id": "YzyuhVfBGjI7"
   },
   "outputs": [],
   "source": [
    "\n",
    "def quanv(image):\n",
    "    \"\"\"Convolves the input image with many applications of the same quantum circuit.\"\"\"\n",
    "    out = np.zeros((14, 14, 4))\n",
    "\n",
    "    # Loop over the coordinates of the top-left pixel of 2X2 squares\n",
    "    for j in range(0, 28, 2):\n",
    "        for k in range(0, 28, 2):\n",
    "            # Process a squared 2x2 region of the image with a quantum circuit\n",
    "            q_results = circuit(\n",
    "                phi=[image[j, k, 0], image[j, k + 1, 0], image[j + 1, k, 0], image[j + 1, k + 1, 0]]\n",
    "            )\n",
    "            # Assign expectation values to different channels of the output pixel (j/2, k/2)\n",
    "            for c in range(4):\n",
    "                out[j // 2, k // 2, c] = q_results[c]\n",
    "    return out"
   ]
  },
  {
   "cell_type": "markdown",
   "metadata": {
    "colab_type": "text",
    "id": "vN_nHENqUY6c"
   },
   "source": [
    "**Quantum pre-processing**"
   ]
  },
  {
   "cell_type": "code",
   "execution_count": 10,
   "metadata": {
    "colab": {},
    "colab_type": "code",
    "id": "QFZJC2gDUd09"
   },
   "outputs": [
    {
     "name": "stdout",
     "output_type": "stream",
     "text": [
      "Quantum pre-processing of train images:\n",
      "50/50        \n",
      "Quantum pre-processing of test images:\n",
      "30/30        \r"
     ]
    },
    {
     "ename": "FileNotFoundError",
     "evalue": "[Errno 2] No such file or directory: 'quanvolution/q_train_images.npy'",
     "output_type": "error",
     "traceback": [
      "\u001b[1;31m---------------------------------------------------------------------------\u001b[0m",
      "\u001b[1;31mFileNotFoundError\u001b[0m                         Traceback (most recent call last)",
      "\u001b[1;32m<ipython-input-10-15510665581e>\u001b[0m in \u001b[0;36m<module>\u001b[1;34m\u001b[0m\n\u001b[0;32m     15\u001b[0m \u001b[1;33m\u001b[0m\u001b[0m\n\u001b[0;32m     16\u001b[0m     \u001b[1;31m# Save pre-processed images\u001b[0m\u001b[1;33m\u001b[0m\u001b[1;33m\u001b[0m\u001b[1;33m\u001b[0m\u001b[0m\n\u001b[1;32m---> 17\u001b[1;33m     \u001b[0mnp\u001b[0m\u001b[1;33m.\u001b[0m\u001b[0msave\u001b[0m\u001b[1;33m(\u001b[0m\u001b[0mSAVE_PATH\u001b[0m \u001b[1;33m+\u001b[0m \u001b[1;34m\"q_train_images.npy\"\u001b[0m\u001b[1;33m,\u001b[0m \u001b[0mq_train_images\u001b[0m\u001b[1;33m)\u001b[0m\u001b[1;33m\u001b[0m\u001b[1;33m\u001b[0m\u001b[0m\n\u001b[0m\u001b[0;32m     18\u001b[0m     \u001b[0mnp\u001b[0m\u001b[1;33m.\u001b[0m\u001b[0msave\u001b[0m\u001b[1;33m(\u001b[0m\u001b[0mSAVE_PATH\u001b[0m \u001b[1;33m+\u001b[0m \u001b[1;34m\"q_test_images.npy\"\u001b[0m\u001b[1;33m,\u001b[0m \u001b[0mq_test_images\u001b[0m\u001b[1;33m)\u001b[0m\u001b[1;33m\u001b[0m\u001b[1;33m\u001b[0m\u001b[0m\n\u001b[0;32m     19\u001b[0m \u001b[1;33m\u001b[0m\u001b[0m\n",
      "\u001b[1;32m~\\Anaconda3\\lib\\site-packages\\pennylane\\numpy\\wrapper.py\u001b[0m in \u001b[0;36m_wrapped\u001b[1;34m(*args, **kwargs)\u001b[0m\n\u001b[0;32m     73\u001b[0m \u001b[1;33m\u001b[0m\u001b[0m\n\u001b[0;32m     74\u001b[0m         \u001b[1;31m# evaluate the original object\u001b[0m\u001b[1;33m\u001b[0m\u001b[1;33m\u001b[0m\u001b[1;33m\u001b[0m\u001b[0m\n\u001b[1;32m---> 75\u001b[1;33m         \u001b[0mres\u001b[0m \u001b[1;33m=\u001b[0m \u001b[0mobj\u001b[0m\u001b[1;33m(\u001b[0m\u001b[1;33m*\u001b[0m\u001b[0margs\u001b[0m\u001b[1;33m,\u001b[0m \u001b[1;33m**\u001b[0m\u001b[0mkwargs\u001b[0m\u001b[1;33m)\u001b[0m\u001b[1;33m\u001b[0m\u001b[1;33m\u001b[0m\u001b[0m\n\u001b[0m\u001b[0;32m     76\u001b[0m \u001b[1;33m\u001b[0m\u001b[0m\n\u001b[0;32m     77\u001b[0m         \u001b[1;32mif\u001b[0m \u001b[0misinstance\u001b[0m\u001b[1;33m(\u001b[0m\u001b[0mres\u001b[0m\u001b[1;33m,\u001b[0m \u001b[0m_np\u001b[0m\u001b[1;33m.\u001b[0m\u001b[0mndarray\u001b[0m\u001b[1;33m)\u001b[0m\u001b[1;33m:\u001b[0m\u001b[1;33m\u001b[0m\u001b[1;33m\u001b[0m\u001b[0m\n",
      "\u001b[1;32m~\\Anaconda3\\lib\\site-packages\\autograd\\tracer.py\u001b[0m in \u001b[0;36mf_wrapped\u001b[1;34m(*args, **kwargs)\u001b[0m\n\u001b[0;32m     46\u001b[0m             \u001b[1;32mreturn\u001b[0m \u001b[0mnew_box\u001b[0m\u001b[1;33m(\u001b[0m\u001b[0mans\u001b[0m\u001b[1;33m,\u001b[0m \u001b[0mtrace\u001b[0m\u001b[1;33m,\u001b[0m \u001b[0mnode\u001b[0m\u001b[1;33m)\u001b[0m\u001b[1;33m\u001b[0m\u001b[1;33m\u001b[0m\u001b[0m\n\u001b[0;32m     47\u001b[0m         \u001b[1;32melse\u001b[0m\u001b[1;33m:\u001b[0m\u001b[1;33m\u001b[0m\u001b[1;33m\u001b[0m\u001b[0m\n\u001b[1;32m---> 48\u001b[1;33m             \u001b[1;32mreturn\u001b[0m \u001b[0mf_raw\u001b[0m\u001b[1;33m(\u001b[0m\u001b[1;33m*\u001b[0m\u001b[0margs\u001b[0m\u001b[1;33m,\u001b[0m \u001b[1;33m**\u001b[0m\u001b[0mkwargs\u001b[0m\u001b[1;33m)\u001b[0m\u001b[1;33m\u001b[0m\u001b[1;33m\u001b[0m\u001b[0m\n\u001b[0m\u001b[0;32m     49\u001b[0m     \u001b[0mf_wrapped\u001b[0m\u001b[1;33m.\u001b[0m\u001b[0mfun\u001b[0m \u001b[1;33m=\u001b[0m \u001b[0mf_raw\u001b[0m\u001b[1;33m\u001b[0m\u001b[1;33m\u001b[0m\u001b[0m\n\u001b[0;32m     50\u001b[0m     \u001b[0mf_wrapped\u001b[0m\u001b[1;33m.\u001b[0m\u001b[0m_is_autograd_primitive\u001b[0m \u001b[1;33m=\u001b[0m \u001b[1;32mTrue\u001b[0m\u001b[1;33m\u001b[0m\u001b[1;33m\u001b[0m\u001b[0m\n",
      "\u001b[1;32m<__array_function__ internals>\u001b[0m in \u001b[0;36msave\u001b[1;34m(*args, **kwargs)\u001b[0m\n",
      "\u001b[1;32m~\\Anaconda3\\lib\\site-packages\\numpy\\lib\\npyio.py\u001b[0m in \u001b[0;36msave\u001b[1;34m(file, arr, allow_pickle, fix_imports)\u001b[0m\n\u001b[0;32m    528\u001b[0m         \u001b[1;32mif\u001b[0m \u001b[1;32mnot\u001b[0m \u001b[0mfile\u001b[0m\u001b[1;33m.\u001b[0m\u001b[0mendswith\u001b[0m\u001b[1;33m(\u001b[0m\u001b[1;34m'.npy'\u001b[0m\u001b[1;33m)\u001b[0m\u001b[1;33m:\u001b[0m\u001b[1;33m\u001b[0m\u001b[1;33m\u001b[0m\u001b[0m\n\u001b[0;32m    529\u001b[0m             \u001b[0mfile\u001b[0m \u001b[1;33m=\u001b[0m \u001b[0mfile\u001b[0m \u001b[1;33m+\u001b[0m \u001b[1;34m'.npy'\u001b[0m\u001b[1;33m\u001b[0m\u001b[1;33m\u001b[0m\u001b[0m\n\u001b[1;32m--> 530\u001b[1;33m         \u001b[0mfid\u001b[0m \u001b[1;33m=\u001b[0m \u001b[0mopen\u001b[0m\u001b[1;33m(\u001b[0m\u001b[0mfile\u001b[0m\u001b[1;33m,\u001b[0m \u001b[1;34m\"wb\"\u001b[0m\u001b[1;33m)\u001b[0m\u001b[1;33m\u001b[0m\u001b[1;33m\u001b[0m\u001b[0m\n\u001b[0m\u001b[0;32m    531\u001b[0m         \u001b[0mown_fid\u001b[0m \u001b[1;33m=\u001b[0m \u001b[1;32mTrue\u001b[0m\u001b[1;33m\u001b[0m\u001b[1;33m\u001b[0m\u001b[0m\n\u001b[0;32m    532\u001b[0m \u001b[1;33m\u001b[0m\u001b[0m\n",
      "\u001b[1;31mFileNotFoundError\u001b[0m: [Errno 2] No such file or directory: 'quanvolution/q_train_images.npy'"
     ]
    }
   ],
   "source": [
    "if PREPROCESS == True:\n",
    "    q_train_images = []\n",
    "    print(\"Quantum pre-processing of train images:\")\n",
    "    for idx, img in enumerate(train_images):\n",
    "        print(\"{}/{}        \".format(idx + 1, n_train), end=\"\\r\")\n",
    "        q_train_images.append(quanv(img))\n",
    "    q_train_images = np.asarray(q_train_images)\n",
    "\n",
    "    q_test_images = []\n",
    "    print(\"\\nQuantum pre-processing of test images:\")\n",
    "    for idx, img in enumerate(test_images):\n",
    "        print(\"{}/{}        \".format(idx + 1, n_test), end=\"\\r\")\n",
    "        q_test_images.append(quanv(img))#add the Qlayer\n",
    "    q_test_images = np.asarray(q_test_images)\n",
    "\n",
    "    # Save pre-processed images\n",
    "    np.save(SAVE_PATH + \"q_train_images.npy\", q_train_images)\n",
    "    np.save(SAVE_PATH + \"q_test_images.npy\", q_test_images)\n",
    "\n",
    "\n",
    "# Load pre-processed images\n",
    "q_train_images = np.load(SAVE_PATH + \"q_train_images.npy\")\n",
    "q_test_images = np.load(SAVE_PATH + \"q_test_images.npy\")"
   ]
  },
  {
   "cell_type": "code",
   "execution_count": 11,
   "metadata": {
    "colab": {},
    "colab_type": "code",
    "id": "ceUpjs2DU4D0"
   },
   "outputs": [
    {
     "data": {
      "image/png": "[encoded data removed]",
      "text/plain": [
       "<Figure size 720x720 with 20 Axes>"
      ]
     },
     "metadata": {
      "needs_background": "light"
     },
     "output_type": "display_data"
    }
   ],
   "source": [
    "n_samples = 4\n",
    "n_channels = 4\n",
    "fig, axes = plt.subplots(1 + n_channels, n_samples, figsize=(10, 10))\n",
    "for k in range(n_samples):\n",
    "    axes[0, 0].set_ylabel(\"Input\")\n",
    "    if k != 0:\n",
    "        axes[0, k].yaxis.set_visible(False)\n",
    "    axes[0, k].imshow(train_images[k, :, :, 0], cmap=\"gray\")\n",
    "\n",
    "    # Plot all output channels\n",
    "    for c in range(n_channels):\n",
    "        axes[c + 1, 0].set_ylabel(\"Output [ch. {}]\".format(c))\n",
    "        if k != 0:\n",
    "            axes[c, k].yaxis.set_visible(False)\n",
    "        axes[c + 1, k].imshow(q_train_images[k, :, :, c], cmap=\"gray\")\n",
    "\n",
    "plt.tight_layout()\n",
    "plt.show()"
   ]
  },
  {
   "cell_type": "markdown",
   "metadata": {
    "colab_type": "text",
    "id": "K-KNPgH_U3B8"
   },
   "source": [
    "\n",
    "**Hybrid quantum-classical model**"
   ]
  },
  {
   "cell_type": "code",
   "execution_count": 12,
   "metadata": {
    "colab": {},
    "colab_type": "code",
    "id": "s8jR78pnU9k4"
   },
   "outputs": [],
   "source": [
    "def MyModel():\n",
    "   \n",
    "    \n",
    "    model = keras.models.Sequential([\n",
    "        \n",
    "        keras.layers.Conv2D(64, (3, 3), activation='relu'),\n",
    "        keras.layers.MaxPooling2D((2, 2)), \n",
    "        keras.layers.Conv2D(64, (3, 3), activation='relu'),\n",
    "        keras.layers.MaxPooling2D((2, 2)),                                                 \n",
    "        keras.layers.Flatten(),\n",
    "        keras.layers.Dense(10, activation=\"softmax\")\n",
    "    ])\n",
    "    \n",
    "    \n",
    "    \n",
    "    model.compile(\n",
    "        optimizer='adam',\n",
    "        loss=\"sparse_categorical_crossentropy\",\n",
    "        metrics=[\"accuracy\"],\n",
    "    )\n",
    "    return model"
   ]
  },
  {
   "cell_type": "markdown",
   "metadata": {
    "colab_type": "text",
    "id": "PT8vfiXIjFbh"
   },
   "source": [
    "**Training**"
   ]
  },
  {
   "cell_type": "code",
   "execution_count": 13,
   "metadata": {
    "colab": {},
    "colab_type": "code",
    "id": "YOGMUXxlUIeS"
   },
   "outputs": [
    {
     "name": "stdout",
     "output_type": "stream",
     "text": [
      "Train on 50 samples, validate on 30 samples\n",
      "Epoch 1/30\n",
      "50/50 - 1s - loss: 2.3639 - accuracy: 0.1400 - val_loss: 2.2001 - val_accuracy: 0.2000\n",
      "Epoch 2/30\n",
      "50/50 - 0s - loss: 1.9019 - accuracy: 0.3600 - val_loss: 1.9828 - val_accuracy: 0.3667\n",
      "Epoch 3/30\n",
      "50/50 - 0s - loss: 1.6296 - accuracy: 0.6000 - val_loss: 1.7908 - val_accuracy: 0.5333\n",
      "Epoch 4/30\n",
      "50/50 - 0s - loss: 1.3372 - accuracy: 0.7600 - val_loss: 1.5639 - val_accuracy: 0.7667\n",
      "Epoch 5/30\n",
      "50/50 - 0s - loss: 1.0014 - accuracy: 0.9800 - val_loss: 1.3784 - val_accuracy: 0.7000\n",
      "Epoch 6/30\n",
      "50/50 - 0s - loss: 0.7677 - accuracy: 0.9000 - val_loss: 1.1909 - val_accuracy: 0.8000\n",
      "Epoch 7/30\n",
      "50/50 - 0s - loss: 0.5255 - accuracy: 1.0000 - val_loss: 1.0556 - val_accuracy: 0.8000\n",
      "Epoch 8/30\n",
      "50/50 - 0s - loss: 0.3531 - accuracy: 1.0000 - val_loss: 0.8825 - val_accuracy: 0.7667\n",
      "Epoch 9/30\n",
      "50/50 - 0s - loss: 0.2194 - accuracy: 1.0000 - val_loss: 0.8538 - val_accuracy: 0.8000\n",
      "Epoch 10/30\n",
      "50/50 - 0s - loss: 0.1663 - accuracy: 1.0000 - val_loss: 0.7446 - val_accuracy: 0.8333\n",
      "Epoch 11/30\n",
      "50/50 - 0s - loss: 0.1110 - accuracy: 1.0000 - val_loss: 0.6848 - val_accuracy: 0.8333\n",
      "Epoch 12/30\n",
      "50/50 - 0s - loss: 0.0788 - accuracy: 1.0000 - val_loss: 0.6382 - val_accuracy: 0.8667\n",
      "Epoch 13/30\n",
      "50/50 - 0s - loss: 0.0636 - accuracy: 1.0000 - val_loss: 0.6411 - val_accuracy: 0.8667\n",
      "Epoch 14/30\n",
      "50/50 - 0s - loss: 0.0511 - accuracy: 1.0000 - val_loss: 0.5986 - val_accuracy: 0.8333\n",
      "Epoch 15/30\n",
      "50/50 - 0s - loss: 0.0412 - accuracy: 1.0000 - val_loss: 0.5707 - val_accuracy: 0.8667\n",
      "Epoch 16/30\n",
      "50/50 - 0s - loss: 0.0350 - accuracy: 1.0000 - val_loss: 0.5805 - val_accuracy: 0.8667\n",
      "Epoch 17/30\n",
      "50/50 - 0s - loss: 0.0284 - accuracy: 1.0000 - val_loss: 0.5440 - val_accuracy: 0.8667\n",
      "Epoch 18/30\n",
      "50/50 - 0s - loss: 0.0256 - accuracy: 1.0000 - val_loss: 0.5420 - val_accuracy: 0.8667\n",
      "Epoch 19/30\n",
      "50/50 - 0s - loss: 0.0217 - accuracy: 1.0000 - val_loss: 0.5249 - val_accuracy: 0.8667\n",
      "Epoch 20/30\n",
      "50/50 - 0s - loss: 0.0198 - accuracy: 1.0000 - val_loss: 0.5086 - val_accuracy: 0.8667\n",
      "Epoch 21/30\n",
      "50/50 - 0s - loss: 0.0173 - accuracy: 1.0000 - val_loss: 0.5085 - val_accuracy: 0.8667\n",
      "Epoch 22/30\n",
      "50/50 - 0s - loss: 0.0157 - accuracy: 1.0000 - val_loss: 0.4965 - val_accuracy: 0.8667\n",
      "Epoch 23/30\n",
      "50/50 - 0s - loss: 0.0141 - accuracy: 1.0000 - val_loss: 0.4818 - val_accuracy: 0.8667\n",
      "Epoch 24/30\n",
      "50/50 - 0s - loss: 0.0129 - accuracy: 1.0000 - val_loss: 0.4904 - val_accuracy: 0.8667\n",
      "Epoch 25/30\n",
      "50/50 - 0s - loss: 0.0116 - accuracy: 1.0000 - val_loss: 0.4860 - val_accuracy: 0.8667\n",
      "Epoch 26/30\n",
      "50/50 - 0s - loss: 0.0108 - accuracy: 1.0000 - val_loss: 0.4771 - val_accuracy: 0.8667\n",
      "Epoch 27/30\n",
      "50/50 - 0s - loss: 0.0102 - accuracy: 1.0000 - val_loss: 0.4706 - val_accuracy: 0.8667\n",
      "Epoch 28/30\n",
      "50/50 - 0s - loss: 0.0093 - accuracy: 1.0000 - val_loss: 0.4744 - val_accuracy: 0.8667\n",
      "Epoch 29/30\n",
      "50/50 - 0s - loss: 0.0085 - accuracy: 1.0000 - val_loss: 0.4623 - val_accuracy: 0.8667\n",
      "Epoch 30/30\n",
      "50/50 - 0s - loss: 0.0080 - accuracy: 1.0000 - val_loss: 0.4644 - val_accuracy: 0.8667\n"
     ]
    }
   ],
   "source": [
    "\n",
    "# Args:\n",
    "# graph_or_graph_def: A Graph or a GraphDef protocol buffer.\n",
    "# logdir: Directory where to write the graph. This can refer to remote filesystems, such as Google Cloud Storage (GCS).\n",
    "# name: Filename for the graph.\n",
    "# as_text: If True, writes the graph as an ASCII proto.tf.train.write_graph(session.graph_def, \"./export\", \"network.pb\", False)\n",
    "#tf.train.write_graph(session.graph_def, \"./export\", \"network.pb\", False)\n",
    "q_model = MyModel()\n",
    "\n",
    "q_history = q_model.fit(\n",
    "    q_train_images,\n",
    "    train_labels,\n",
    "    validation_data=(q_test_images, test_labels),\n",
    "    batch_size=4,\n",
    "    epochs=n_epochs,\n",
    "    verbose=2,\n",
    ")\n"
   ]
  },
  {
   "cell_type": "code",
   "execution_count": 14,
   "metadata": {
    "colab": {},
    "colab_type": "code",
    "id": "44fQHn-j1UCS"
   },
   "outputs": [
    {
     "name": "stdout",
     "output_type": "stream",
     "text": [
      "Train on 50 samples, validate on 30 samples\n",
      "Epoch 1/30\n",
      "50/50 - 1s - loss: 2.2993 - accuracy: 0.1200 - val_loss: 2.2365 - val_accuracy: 0.2333\n",
      "Epoch 2/30\n",
      "50/50 - 0s - loss: 2.0305 - accuracy: 0.3400 - val_loss: 2.0273 - val_accuracy: 0.2667\n",
      "Epoch 3/30\n",
      "50/50 - 0s - loss: 1.6471 - accuracy: 0.5000 - val_loss: 1.4731 - val_accuracy: 0.6667\n",
      "Epoch 4/30\n",
      "50/50 - 0s - loss: 1.0101 - accuracy: 0.8600 - val_loss: 1.0462 - val_accuracy: 0.7667\n",
      "Epoch 5/30\n",
      "50/50 - 0s - loss: 0.4920 - accuracy: 0.9200 - val_loss: 0.8743 - val_accuracy: 0.7000\n",
      "Epoch 6/30\n",
      "50/50 - 0s - loss: 0.2594 - accuracy: 0.9000 - val_loss: 0.8922 - val_accuracy: 0.8000\n",
      "Epoch 7/30\n",
      "50/50 - 0s - loss: 0.1287 - accuracy: 1.0000 - val_loss: 0.9253 - val_accuracy: 0.7333\n",
      "Epoch 8/30\n",
      "50/50 - 0s - loss: 0.0927 - accuracy: 0.9800 - val_loss: 0.9214 - val_accuracy: 0.7667\n",
      "Epoch 9/30\n",
      "50/50 - 0s - loss: 0.0395 - accuracy: 1.0000 - val_loss: 0.8898 - val_accuracy: 0.7667\n",
      "Epoch 10/30\n",
      "50/50 - 0s - loss: 0.0192 - accuracy: 1.0000 - val_loss: 0.8302 - val_accuracy: 0.8000\n",
      "Epoch 11/30\n",
      "50/50 - 0s - loss: 0.0138 - accuracy: 1.0000 - val_loss: 0.8474 - val_accuracy: 0.8000\n",
      "Epoch 12/30\n",
      "50/50 - 0s - loss: 0.0095 - accuracy: 1.0000 - val_loss: 0.9096 - val_accuracy: 0.8000\n",
      "Epoch 13/30\n",
      "50/50 - 0s - loss: 0.0077 - accuracy: 1.0000 - val_loss: 0.9244 - val_accuracy: 0.7667\n",
      "Epoch 14/30\n",
      "50/50 - 0s - loss: 0.0066 - accuracy: 1.0000 - val_loss: 0.9584 - val_accuracy: 0.7667\n",
      "Epoch 15/30\n",
      "50/50 - 0s - loss: 0.0057 - accuracy: 1.0000 - val_loss: 0.9364 - val_accuracy: 0.7667\n",
      "Epoch 16/30\n",
      "50/50 - 0s - loss: 0.0049 - accuracy: 1.0000 - val_loss: 0.9630 - val_accuracy: 0.7667\n",
      "Epoch 17/30\n",
      "50/50 - 0s - loss: 0.0042 - accuracy: 1.0000 - val_loss: 0.9584 - val_accuracy: 0.7667\n",
      "Epoch 18/30\n",
      "50/50 - 0s - loss: 0.0039 - accuracy: 1.0000 - val_loss: 0.9471 - val_accuracy: 0.7667\n",
      "Epoch 19/30\n",
      "50/50 - 0s - loss: 0.0033 - accuracy: 1.0000 - val_loss: 0.9651 - val_accuracy: 0.7667\n",
      "Epoch 20/30\n",
      "50/50 - 0s - loss: 0.0030 - accuracy: 1.0000 - val_loss: 0.9760 - val_accuracy: 0.7667\n",
      "Epoch 21/30\n",
      "50/50 - 0s - loss: 0.0027 - accuracy: 1.0000 - val_loss: 0.9770 - val_accuracy: 0.7667\n",
      "Epoch 22/30\n",
      "50/50 - 0s - loss: 0.0025 - accuracy: 1.0000 - val_loss: 0.9951 - val_accuracy: 0.7667\n",
      "Epoch 23/30\n",
      "50/50 - 0s - loss: 0.0023 - accuracy: 1.0000 - val_loss: 0.9991 - val_accuracy: 0.7667\n",
      "Epoch 24/30\n",
      "50/50 - 0s - loss: 0.0021 - accuracy: 1.0000 - val_loss: 1.0155 - val_accuracy: 0.7667\n",
      "Epoch 25/30\n",
      "50/50 - 0s - loss: 0.0019 - accuracy: 1.0000 - val_loss: 1.0217 - val_accuracy: 0.7667\n",
      "Epoch 26/30\n",
      "50/50 - 0s - loss: 0.0018 - accuracy: 1.0000 - val_loss: 1.0331 - val_accuracy: 0.7667\n",
      "Epoch 27/30\n",
      "50/50 - 0s - loss: 0.0017 - accuracy: 1.0000 - val_loss: 1.0089 - val_accuracy: 0.7667\n",
      "Epoch 28/30\n",
      "50/50 - 0s - loss: 0.0015 - accuracy: 1.0000 - val_loss: 1.0223 - val_accuracy: 0.7667\n",
      "Epoch 29/30\n",
      "50/50 - 0s - loss: 0.0014 - accuracy: 1.0000 - val_loss: 1.0342 - val_accuracy: 0.7667\n",
      "Epoch 30/30\n",
      "50/50 - 0s - loss: 0.0013 - accuracy: 1.0000 - val_loss: 1.0367 - val_accuracy: 0.7667\n"
     ]
    }
   ],
   "source": [
    "c_model = MyModel()\n",
    "\n",
    "c_history = c_model.fit(\n",
    "    train_images,\n",
    "    train_labels,\n",
    "    validation_data=(test_images, test_labels),\n",
    "    batch_size=4,\n",
    "    epochs=n_epochs,\n",
    "    verbose=2,\n",
    ")"
   ]
  },
  {
   "cell_type": "code",
   "execution_count": 15,
   "metadata": {
    "colab": {},
    "colab_type": "code",
    "id": "RysYilosfUT5"
   },
   "outputs": [
    {
     "name": "stdout",
     "output_type": "stream",
     "text": [
      "Model: \"sequential\"\n",
      "_________________________________________________________________\n",
      "Layer (type)                 Output Shape              Param #   \n",
      "=================================================================\n",
      "conv2d (Conv2D)              multiple                  2368      \n",
      "_________________________________________________________________\n",
      "max_pooling2d (MaxPooling2D) multiple                  0         \n",
      "_________________________________________________________________\n",
      "conv2d_1 (Conv2D)            multiple                  36928     \n",
      "_________________________________________________________________\n",
      "max_pooling2d_1 (MaxPooling2 multiple                  0         \n",
      "_________________________________________________________________\n",
      "flatten (Flatten)            multiple                  0         \n",
      "_________________________________________________________________\n",
      "dense (Dense)                multiple                  2570      \n",
      "=================================================================\n",
      "Total params: 41,866\n",
      "Trainable params: 41,866\n",
      "Non-trainable params: 0\n",
      "_________________________________________________________________\n"
     ]
    }
   ],
   "source": [
    "q_model.summary()\n"
   ]
  },
  {
   "cell_type": "code",
   "execution_count": 16,
   "metadata": {
    "colab": {},
    "colab_type": "code",
    "id": "zd0CRKH_fdTn"
   },
   "outputs": [
    {
     "name": "stdout",
     "output_type": "stream",
     "text": [
      "Model: \"sequential_1\"\n",
      "_________________________________________________________________\n",
      "Layer (type)                 Output Shape              Param #   \n",
      "=================================================================\n",
      "conv2d_2 (Conv2D)            multiple                  640       \n",
      "_________________________________________________________________\n",
      "max_pooling2d_2 (MaxPooling2 multiple                  0         \n",
      "_________________________________________________________________\n",
      "conv2d_3 (Conv2D)            multiple                  36928     \n",
      "_________________________________________________________________\n",
      "max_pooling2d_3 (MaxPooling2 multiple                  0         \n",
      "_________________________________________________________________\n",
      "flatten_1 (Flatten)          multiple                  0         \n",
      "_________________________________________________________________\n",
      "dense_1 (Dense)              multiple                  16010     \n",
      "=================================================================\n",
      "Total params: 53,578\n",
      "Trainable params: 53,578\n",
      "Non-trainable params: 0\n",
      "_________________________________________________________________\n"
     ]
    }
   ],
   "source": [
    "c_model.summary()"
   ]
  },
  {
   "cell_type": "code",
   "execution_count": 17,
   "metadata": {},
   "outputs": [
    {
     "name": "stdout",
     "output_type": "stream",
     "text": [
      "Train on 50 samples, validate on 30 samples\n",
      "Epoch 1/10\n",
      "32/50 [==================>...........] - ETA: 0s - loss: 0.0015 - accuracy: 1.0000\n",
      "Epoch 00001: saving model to training_1/cp.ckpt\n",
      "50/50 [==============================] - 1s 11ms/sample - loss: 0.0012 - accuracy: 1.0000 - val_loss: 1.0390 - val_accuracy: 0.7667\n",
      "Epoch 2/10\n",
      "32/50 [==================>...........] - ETA: 0s - loss: 0.0015 - accuracy: 1.0000\n",
      "Epoch 00002: saving model to training_1/cp.ckpt\n",
      "50/50 [==============================] - 0s 7ms/sample - loss: 0.0012 - accuracy: 1.0000 - val_loss: 1.0411 - val_accuracy: 0.7667\n",
      "Epoch 3/10\n",
      "32/50 [==================>...........] - ETA: 0s - loss: 0.0012 - accuracy: 1.0000\n",
      "Epoch 00003: saving model to training_1/cp.ckpt\n",
      "50/50 [==============================] - 0s 5ms/sample - loss: 0.0012 - accuracy: 1.0000 - val_loss: 1.0426 - val_accuracy: 0.7667\n",
      "Epoch 4/10\n",
      "32/50 [==================>...........] - ETA: 0s - loss: 9.8273e-04 - accuracy: 1.0000\n",
      "Epoch 00004: saving model to training_1/cp.ckpt\n",
      "50/50 [==============================] - 0s 5ms/sample - loss: 0.0012 - accuracy: 1.0000 - val_loss: 1.0441 - val_accuracy: 0.7667\n",
      "Epoch 5/10\n",
      "32/50 [==================>...........] - ETA: 0s - loss: 9.7067e-04 - accuracy: 1.0000\n",
      "Epoch 00005: saving model to training_1/cp.ckpt\n",
      "50/50 [==============================] - 0s 3ms/sample - loss: 0.0012 - accuracy: 1.0000 - val_loss: 1.0451 - val_accuracy: 0.7667\n",
      "Epoch 6/10\n",
      "32/50 [==================>...........] - ETA: 0s - loss: 9.3056e-04 - accuracy: 1.0000\n",
      "Epoch 00006: saving model to training_1/cp.ckpt\n",
      "50/50 [==============================] - 1s 10ms/sample - loss: 0.0012 - accuracy: 1.0000 - val_loss: 1.0453 - val_accuracy: 0.7667\n",
      "Epoch 7/10\n",
      "32/50 [==================>...........] - ETA: 0s - loss: 8.9451e-04 - accuracy: 1.0000\n",
      "Epoch 00007: saving model to training_1/cp.ckpt\n",
      "50/50 [==============================] - 1s 12ms/sample - loss: 0.0012 - accuracy: 1.0000 - val_loss: 1.0454 - val_accuracy: 0.7667\n",
      "Epoch 8/10\n",
      "32/50 [==================>...........] - ETA: 0s - loss: 0.0013 - accuracy: 1.0000\n",
      "Epoch 00008: saving model to training_1/cp.ckpt\n",
      "50/50 [==============================] - 0s 5ms/sample - loss: 0.0012 - accuracy: 1.0000 - val_loss: 1.0457 - val_accuracy: 0.7667\n",
      "Epoch 9/10\n",
      "32/50 [==================>...........] - ETA: 0s - loss: 0.0012 - accuracy: 1.0000\n",
      "Epoch 00009: saving model to training_1/cp.ckpt\n",
      "50/50 [==============================] - 0s 10ms/sample - loss: 0.0011 - accuracy: 1.0000 - val_loss: 1.0461 - val_accuracy: 0.7667\n",
      "Epoch 10/10\n",
      "32/50 [==================>...........] - ETA: 0s - loss: 0.0011 - accuracy: 1.0000\n",
      "Epoch 00010: saving model to training_1/cp.ckpt\n",
      "50/50 [==============================] - 0s 5ms/sample - loss: 0.0011 - accuracy: 1.0000 - val_loss: 1.0461 - val_accuracy: 0.7667\n"
     ]
    }
   ],
   "source": [
    "import os\n",
    "checkpoint_path = \"training_1/cp.ckpt\"\n",
    "checkpoint_dir = os.path.dirname(checkpoint_path)\n",
    "\n",
    "# Create a callback that saves the model's weights\n",
    "cp_callback = tf.keras.callbacks.ModelCheckpoint(filepath=checkpoint_path,\n",
    "                                                 save_weights_only=True,\n",
    "                                                 verbose=1)\n",
    "\n",
    "# Train the model with the new callback\n",
    "q=c_model.fit(train_images, \n",
    "          train_labels,  \n",
    "          epochs=10,\n",
    "          validation_data=(test_images,test_labels),\n",
    "          callbacks=[cp_callback])  # Pass callback to training\n",
    "\n",
    "# This may generate warnings related to saving the state of the optimizer.\n",
    "# These warnings (and similar warnings throughout this notebook)\n",
    "# are in place to discourage outdated usage, and can be ignored.\n"
   ]
  },
  {
   "cell_type": "code",
   "execution_count": 18,
   "metadata": {},
   "outputs": [
    {
     "name": "stdout",
     "output_type": "stream",
     "text": [
      "Train on 50 samples, validate on 30 samples\n",
      "Epoch 1/10\n",
      "32/50 [==================>...........] - ETA: 0s - loss: 0.0083 - accuracy: 1.0000\n",
      "Epoch 00001: saving model to training_1/cp.ckpt\n",
      "50/50 [==============================] - 0s 5ms/sample - loss: 0.0075 - accuracy: 1.0000 - val_loss: 0.4644 - val_accuracy: 0.8667\n",
      "Epoch 2/10\n",
      "32/50 [==================>...........] - ETA: 0s - loss: 0.0080 - accuracy: 1.0000\n",
      "Epoch 00002: saving model to training_1/cp.ckpt\n",
      "50/50 [==============================] - 0s 4ms/sample - loss: 0.0074 - accuracy: 1.0000 - val_loss: 0.4646 - val_accuracy: 0.8667\n",
      "Epoch 3/10\n",
      "32/50 [==================>...........] - ETA: 0s - loss: 0.0074 - accuracy: 1.0000\n",
      "Epoch 00003: saving model to training_1/cp.ckpt\n",
      "50/50 [==============================] - 0s 7ms/sample - loss: 0.0073 - accuracy: 1.0000 - val_loss: 0.4644 - val_accuracy: 0.8667\n",
      "Epoch 4/10\n",
      "32/50 [==================>...........] - ETA: 0s - loss: 0.0066 - accuracy: 1.0000\n",
      "Epoch 00004: saving model to training_1/cp.ckpt\n",
      "50/50 [==============================] - 0s 9ms/sample - loss: 0.0072 - accuracy: 1.0000 - val_loss: 0.4638 - val_accuracy: 0.8667\n",
      "Epoch 5/10\n",
      "32/50 [==================>...........] - ETA: 0s - loss: 0.0069 - accuracy: 1.0000\n",
      "Epoch 00005: saving model to training_1/cp.ckpt\n",
      "50/50 [==============================] - 1s 11ms/sample - loss: 0.0071 - accuracy: 1.0000 - val_loss: 0.4627 - val_accuracy: 0.8667\n",
      "Epoch 6/10\n",
      "32/50 [==================>...........] - ETA: 0s - loss: 0.0063 - accuracy: 1.0000\n",
      "Epoch 00006: saving model to training_1/cp.ckpt\n",
      "50/50 [==============================] - 0s 5ms/sample - loss: 0.0071 - accuracy: 1.0000 - val_loss: 0.4614 - val_accuracy: 0.8667\n",
      "Epoch 7/10\n",
      "32/50 [==================>...........] - ETA: 0s - loss: 0.0063 - accuracy: 1.0000\n",
      "Epoch 00007: saving model to training_1/cp.ckpt\n",
      "50/50 [==============================] - 0s 2ms/sample - loss: 0.0070 - accuracy: 1.0000 - val_loss: 0.4598 - val_accuracy: 0.8667\n",
      "Epoch 8/10\n",
      "32/50 [==================>...........] - ETA: 0s - loss: 0.0073 - accuracy: 1.0000\n",
      "Epoch 00008: saving model to training_1/cp.ckpt\n",
      "50/50 [==============================] - 0s 6ms/sample - loss: 0.0069 - accuracy: 1.0000 - val_loss: 0.4581 - val_accuracy: 0.8667\n",
      "Epoch 9/10\n",
      "32/50 [==================>...........] - ETA: 0s - loss: 0.0074 - accuracy: 1.0000\n",
      "Epoch 00009: saving model to training_1/cp.ckpt\n",
      "50/50 [==============================] - 0s 4ms/sample - loss: 0.0069 - accuracy: 1.0000 - val_loss: 0.4567 - val_accuracy: 0.8667\n",
      "Epoch 10/10\n",
      "32/50 [==================>...........] - ETA: 0s - loss: 0.0063 - accuracy: 1.0000\n",
      "Epoch 00010: saving model to training_1/cp.ckpt\n",
      "50/50 [==============================] - 0s 4ms/sample - loss: 0.0068 - accuracy: 1.0000 - val_loss: 0.4555 - val_accuracy: 0.8667\n"
     ]
    }
   ],
   "source": [
    "import os\n",
    "checkpoint_path = \"training_1/cp.ckpt\"\n",
    "checkpoint_dir = os.path.dirname(checkpoint_path)\n",
    "\n",
    "# Create a callback that saves the model's weights\n",
    "cp_callback = tf.keras.callbacks.ModelCheckpoint(filepath=checkpoint_path,\n",
    "                                                 save_weights_only=True,\n",
    "                                                 verbose=1)\n",
    "\n",
    "# Train the model with the new callback\n",
    "k=q_model.fit(q_train_images, \n",
    "          train_labels,  \n",
    "          epochs=10,\n",
    "          validation_data=(q_test_images,test_labels),\n",
    "          callbacks=[cp_callback])  # Pass callback to training\n",
    "\n",
    "# This may generate warnings related to saving the state of the optimizer.\n",
    "# These warnings (and similar warnings throughout this notebook)\n",
    "# are in place to discourage outdated usage, and can be ignored."
   ]
  },
  {
   "cell_type": "code",
   "execution_count": 19,
   "metadata": {},
   "outputs": [
    {
     "ename": "ValueError",
     "evalue": "No variables to save",
     "output_type": "error",
     "traceback": [
      "\u001b[1;31m---------------------------------------------------------------------------\u001b[0m",
      "\u001b[1;31mValueError\u001b[0m                                Traceback (most recent call last)",
      "\u001b[1;32m<ipython-input-19-b0cea198e896>\u001b[0m in \u001b[0;36m<module>\u001b[1;34m\u001b[0m\n\u001b[0;32m      5\u001b[0m \u001b[0mtf\u001b[0m\u001b[1;33m.\u001b[0m\u001b[0mdisable_eager_execution\u001b[0m\u001b[1;33m(\u001b[0m\u001b[1;33m)\u001b[0m\u001b[1;33m\u001b[0m\u001b[1;33m\u001b[0m\u001b[0m\n\u001b[0;32m      6\u001b[0m \u001b[0msess\u001b[0m \u001b[1;33m=\u001b[0m \u001b[0mtf\u001b[0m\u001b[1;33m.\u001b[0m\u001b[0mSession\u001b[0m\u001b[1;33m(\u001b[0m\u001b[1;33m)\u001b[0m\u001b[1;33m\u001b[0m\u001b[1;33m\u001b[0m\u001b[0m\n\u001b[1;32m----> 7\u001b[1;33m \u001b[0msaver\u001b[0m \u001b[1;33m=\u001b[0m \u001b[0mtf\u001b[0m\u001b[1;33m.\u001b[0m\u001b[0mtrain\u001b[0m\u001b[1;33m.\u001b[0m\u001b[0mSaver\u001b[0m\u001b[1;33m(\u001b[0m\u001b[1;33m)\u001b[0m\u001b[1;33m\u001b[0m\u001b[1;33m\u001b[0m\u001b[0m\n\u001b[0m\u001b[0;32m      8\u001b[0m \u001b[1;33m\u001b[0m\u001b[0m\n\u001b[0;32m      9\u001b[0m \u001b[0mtf\u001b[0m\u001b[1;33m.\u001b[0m\u001b[0mio\u001b[0m\u001b[1;33m.\u001b[0m\u001b[0mwrite_graph\u001b[0m\u001b[1;33m(\u001b[0m\u001b[0msess\u001b[0m\u001b[1;33m.\u001b[0m\u001b[0mgraph\u001b[0m\u001b[1;33m,\u001b[0m \u001b[1;34m'./graph'\u001b[0m\u001b[1;33m,\u001b[0m \u001b[1;34m'graph.pbtxt'\u001b[0m\u001b[1;33m)\u001b[0m\u001b[1;33m\u001b[0m\u001b[1;33m\u001b[0m\u001b[0m\n",
      "\u001b[1;32m~\\Anaconda3\\lib\\site-packages\\tensorflow_core\\python\\training\\saver.py\u001b[0m in \u001b[0;36m__init__\u001b[1;34m(self, var_list, reshape, sharded, max_to_keep, keep_checkpoint_every_n_hours, name, restore_sequentially, saver_def, builder, defer_build, allow_empty, write_version, pad_step_number, save_relative_paths, filename)\u001b[0m\n\u001b[0;32m    826\u001b[0m           time.time() + self._keep_checkpoint_every_n_hours * 3600)\n\u001b[0;32m    827\u001b[0m     \u001b[1;32melif\u001b[0m \u001b[1;32mnot\u001b[0m \u001b[0mdefer_build\u001b[0m\u001b[1;33m:\u001b[0m\u001b[1;33m\u001b[0m\u001b[1;33m\u001b[0m\u001b[0m\n\u001b[1;32m--> 828\u001b[1;33m       \u001b[0mself\u001b[0m\u001b[1;33m.\u001b[0m\u001b[0mbuild\u001b[0m\u001b[1;33m(\u001b[0m\u001b[1;33m)\u001b[0m\u001b[1;33m\u001b[0m\u001b[1;33m\u001b[0m\u001b[0m\n\u001b[0m\u001b[0;32m    829\u001b[0m     \u001b[1;32mif\u001b[0m \u001b[0mself\u001b[0m\u001b[1;33m.\u001b[0m\u001b[0msaver_def\u001b[0m\u001b[1;33m:\u001b[0m\u001b[1;33m\u001b[0m\u001b[1;33m\u001b[0m\u001b[0m\n\u001b[0;32m    830\u001b[0m       \u001b[0mself\u001b[0m\u001b[1;33m.\u001b[0m\u001b[0m_check_saver_def\u001b[0m\u001b[1;33m(\u001b[0m\u001b[1;33m)\u001b[0m\u001b[1;33m\u001b[0m\u001b[1;33m\u001b[0m\u001b[0m\n",
      "\u001b[1;32m~\\Anaconda3\\lib\\site-packages\\tensorflow_core\\python\\training\\saver.py\u001b[0m in \u001b[0;36mbuild\u001b[1;34m(self)\u001b[0m\n\u001b[0;32m    838\u001b[0m     \u001b[1;32mif\u001b[0m \u001b[0mcontext\u001b[0m\u001b[1;33m.\u001b[0m\u001b[0mexecuting_eagerly\u001b[0m\u001b[1;33m(\u001b[0m\u001b[1;33m)\u001b[0m\u001b[1;33m:\u001b[0m\u001b[1;33m\u001b[0m\u001b[1;33m\u001b[0m\u001b[0m\n\u001b[0;32m    839\u001b[0m       \u001b[1;32mraise\u001b[0m \u001b[0mRuntimeError\u001b[0m\u001b[1;33m(\u001b[0m\u001b[1;34m\"Use save/restore instead of build in eager mode.\"\u001b[0m\u001b[1;33m)\u001b[0m\u001b[1;33m\u001b[0m\u001b[1;33m\u001b[0m\u001b[0m\n\u001b[1;32m--> 840\u001b[1;33m     \u001b[0mself\u001b[0m\u001b[1;33m.\u001b[0m\u001b[0m_build\u001b[0m\u001b[1;33m(\u001b[0m\u001b[0mself\u001b[0m\u001b[1;33m.\u001b[0m\u001b[0m_filename\u001b[0m\u001b[1;33m,\u001b[0m \u001b[0mbuild_save\u001b[0m\u001b[1;33m=\u001b[0m\u001b[1;32mTrue\u001b[0m\u001b[1;33m,\u001b[0m \u001b[0mbuild_restore\u001b[0m\u001b[1;33m=\u001b[0m\u001b[1;32mTrue\u001b[0m\u001b[1;33m)\u001b[0m\u001b[1;33m\u001b[0m\u001b[1;33m\u001b[0m\u001b[0m\n\u001b[0m\u001b[0;32m    841\u001b[0m \u001b[1;33m\u001b[0m\u001b[0m\n\u001b[0;32m    842\u001b[0m   \u001b[1;32mdef\u001b[0m \u001b[0m_build_eager\u001b[0m\u001b[1;33m(\u001b[0m\u001b[0mself\u001b[0m\u001b[1;33m,\u001b[0m \u001b[0mcheckpoint_path\u001b[0m\u001b[1;33m,\u001b[0m \u001b[0mbuild_save\u001b[0m\u001b[1;33m,\u001b[0m \u001b[0mbuild_restore\u001b[0m\u001b[1;33m)\u001b[0m\u001b[1;33m:\u001b[0m\u001b[1;33m\u001b[0m\u001b[1;33m\u001b[0m\u001b[0m\n",
      "\u001b[1;32m~\\Anaconda3\\lib\\site-packages\\tensorflow_core\\python\\training\\saver.py\u001b[0m in \u001b[0;36m_build\u001b[1;34m(self, checkpoint_path, build_save, build_restore)\u001b[0m\n\u001b[0;32m    863\u001b[0m           \u001b[1;32mreturn\u001b[0m\u001b[1;33m\u001b[0m\u001b[1;33m\u001b[0m\u001b[0m\n\u001b[0;32m    864\u001b[0m         \u001b[1;32melse\u001b[0m\u001b[1;33m:\u001b[0m\u001b[1;33m\u001b[0m\u001b[1;33m\u001b[0m\u001b[0m\n\u001b[1;32m--> 865\u001b[1;33m           \u001b[1;32mraise\u001b[0m \u001b[0mValueError\u001b[0m\u001b[1;33m(\u001b[0m\u001b[1;34m\"No variables to save\"\u001b[0m\u001b[1;33m)\u001b[0m\u001b[1;33m\u001b[0m\u001b[1;33m\u001b[0m\u001b[0m\n\u001b[0m\u001b[0;32m    866\u001b[0m       \u001b[0mself\u001b[0m\u001b[1;33m.\u001b[0m\u001b[0m_is_empty\u001b[0m \u001b[1;33m=\u001b[0m \u001b[1;32mFalse\u001b[0m\u001b[1;33m\u001b[0m\u001b[1;33m\u001b[0m\u001b[0m\n\u001b[0;32m    867\u001b[0m \u001b[1;33m\u001b[0m\u001b[0m\n",
      "\u001b[1;31mValueError\u001b[0m: No variables to save"
     ]
    }
   ],
   "source": [
    "import tensorflow as tf\n",
    "import tensorflow as tf\n",
    "import tensorflow.compat.v1 as tf\n",
    "#To make tf 2.0 compatible with tf1.0 code, we disable the tf2.0 functionalities\n",
    "tf.disable_eager_execution()\n",
    "sess = tf.Session()\n",
    "saver = tf.train.Saver()\n",
    "\n",
    "tf.io.write_graph(sess.graph, './graph', 'graph.pbtxt')\n",
    "# session is run\n"
   ]
  },
  {
   "cell_type": "code",
   "execution_count": null,
   "metadata": {},
   "outputs": [],
   "source": [
    "import tensorflow as tf\n",
    "import numpy as np\n",
    "from tensorflow.python.tools import freeze_graph"
   ]
  },
  {
   "cell_type": "code",
   "execution_count": null,
   "metadata": {},
   "outputs": [],
   "source": [
    "# Freeze the graph\n",
    "#save_path=\"Users\\MohamedyassineFerjan\\Desktop\\mnist q\\graph\\graph.pbtxt\" #directory to model files\n",
    "save_path=\"Users\\MohamedyassineFerjan\\Desktop\\mnist q\"\n",
    "MODEL_NAME = 'Sample_model'  #name of the model optional\n",
    "input_graph_path = 'Users\\MohamedyassineFerjan\\Desktop\\mnist q\\graph\\graph.pbtxt'#complete path to the input graph\n",
    "\n",
    "checkpoint_path = save_path+'model.ckpt' #complete path to the model's checkpoint file\n",
    "input_saver_def_path = \"\"\n",
    "input_binary = False\n",
    "output_node_names = \"output\" #output node's name. Should match to that mentioned in your code\n",
    "restore_op_name = \"save/restore_all\"\n",
    "filename_tensor_name = \"save/Const:0\"\n",
    "output_frozen_graph_name = save_path+'frozen_model_'+MODEL_NAME+'.pb' # the name of .pb file you would like to give\n",
    "clear_devices = True"
   ]
  },
  {
   "cell_type": "code",
   "execution_count": null,
   "metadata": {},
   "outputs": [],
   "source": [
    "freeze_graph.freeze_graph(input_graph_path, input_saver_def_path,\n",
    "                          input_binary, checkpoint_path, output_node_names,\n",
    "                          restore_op_name, filename_tensor_name,\n",
    "                          output_frozen_graph_name, clear_devices, \"\")"
   ]
  },
  {
   "cell_type": "code",
   "execution_count": null,
   "metadata": {},
   "outputs": [],
   "source": [
    "\n",
    "import tensorflow.compat.v1 as tf\n",
    "from tensorflow.python.framework import graph_io\n",
    "frozen = tf.graph_util.convert_variables_to_constants(sess, sess.graph_def, [\"Users\\MohamedyassineFerjan\\Downloads\\graph\\graph.pbtxt\"])\n",
    "graph_io.write_graph(frozen, './', 'inference_graph.pb', as_text=False)"
   ]
  },
  {
   "cell_type": "code",
   "execution_count": null,
   "metadata": {},
   "outputs": [],
   "source": [
    "\n",
    "w=q_model.trainable_variables"
   ]
  },
  {
   "cell_type": "code",
   "execution_count": null,
   "metadata": {},
   "outputs": [],
   "source": [
    "c_model.save('official')\n"
   ]
  },
  {
   "cell_type": "code",
   "execution_count": 20,
   "metadata": {},
   "outputs": [
    {
     "name": "stdout",
     "output_type": "stream",
     "text": [
      "WARNING:tensorflow:From C:\\Users\\MohamedyassineFerjan\\Anaconda3\\lib\\site-packages\\tensorflow_core\\python\\ops\\resource_variable_ops.py:1786: calling BaseResourceVariable.__init__ (from tensorflow.python.ops.resource_variable_ops) with constraint is deprecated and will be removed in a future version.\n",
      "Instructions for updating:\n",
      "If using Keras pass *_constraint arguments to layers.\n"
     ]
    },
    {
     "name": "stderr",
     "output_type": "stream",
     "text": [
      "WARNING:tensorflow:From C:\\Users\\MohamedyassineFerjan\\Anaconda3\\lib\\site-packages\\tensorflow_core\\python\\ops\\resource_variable_ops.py:1786: calling BaseResourceVariable.__init__ (from tensorflow.python.ops.resource_variable_ops) with constraint is deprecated and will be removed in a future version.\n",
      "Instructions for updating:\n",
      "If using Keras pass *_constraint arguments to layers.\n"
     ]
    },
    {
     "ename": "RuntimeError",
     "evalue": "Attempting to capture an EagerTensor without building a function.",
     "output_type": "error",
     "traceback": [
      "\u001b[1;31m---------------------------------------------------------------------------\u001b[0m",
      "\u001b[1;31mRuntimeError\u001b[0m                              Traceback (most recent call last)",
      "\u001b[1;32m<ipython-input-20-e345b045ec14>\u001b[0m in \u001b[0;36m<module>\u001b[1;34m\u001b[0m\n\u001b[1;32m----> 1\u001b[1;33m \u001b[0mq_model\u001b[0m\u001b[1;33m.\u001b[0m\u001b[0msave\u001b[0m\u001b[1;33m(\u001b[0m\u001b[1;34m'term'\u001b[0m\u001b[1;33m)\u001b[0m\u001b[1;33m\u001b[0m\u001b[1;33m\u001b[0m\u001b[0m\n\u001b[0m\u001b[0;32m      2\u001b[0m \u001b[1;33m\u001b[0m\u001b[0m\n",
      "\u001b[1;32m~\\Anaconda3\\lib\\site-packages\\tensorflow_core\\python\\keras\\engine\\network.py\u001b[0m in \u001b[0;36msave\u001b[1;34m(self, filepath, overwrite, include_optimizer, save_format, signatures, options)\u001b[0m\n\u001b[0;32m   1006\u001b[0m     \"\"\"\n\u001b[0;32m   1007\u001b[0m     save.save_model(self, filepath, overwrite, include_optimizer, save_format,\n\u001b[1;32m-> 1008\u001b[1;33m                     signatures, options)\n\u001b[0m\u001b[0;32m   1009\u001b[0m \u001b[1;33m\u001b[0m\u001b[0m\n\u001b[0;32m   1010\u001b[0m   \u001b[1;32mdef\u001b[0m \u001b[0msave_weights\u001b[0m\u001b[1;33m(\u001b[0m\u001b[0mself\u001b[0m\u001b[1;33m,\u001b[0m \u001b[0mfilepath\u001b[0m\u001b[1;33m,\u001b[0m \u001b[0moverwrite\u001b[0m\u001b[1;33m=\u001b[0m\u001b[1;32mTrue\u001b[0m\u001b[1;33m,\u001b[0m \u001b[0msave_format\u001b[0m\u001b[1;33m=\u001b[0m\u001b[1;32mNone\u001b[0m\u001b[1;33m)\u001b[0m\u001b[1;33m:\u001b[0m\u001b[1;33m\u001b[0m\u001b[1;33m\u001b[0m\u001b[0m\n",
      "\u001b[1;32m~\\Anaconda3\\lib\\site-packages\\tensorflow_core\\python\\keras\\saving\\save.py\u001b[0m in \u001b[0;36msave_model\u001b[1;34m(model, filepath, overwrite, include_optimizer, save_format, signatures, options)\u001b[0m\n\u001b[0;32m    113\u001b[0m   \u001b[1;32melse\u001b[0m\u001b[1;33m:\u001b[0m\u001b[1;33m\u001b[0m\u001b[1;33m\u001b[0m\u001b[0m\n\u001b[0;32m    114\u001b[0m     saved_model_save.save(model, filepath, overwrite, include_optimizer,\n\u001b[1;32m--> 115\u001b[1;33m                           signatures, options)\n\u001b[0m\u001b[0;32m    116\u001b[0m \u001b[1;33m\u001b[0m\u001b[0m\n\u001b[0;32m    117\u001b[0m \u001b[1;33m\u001b[0m\u001b[0m\n",
      "\u001b[1;32m~\\Anaconda3\\lib\\site-packages\\tensorflow_core\\python\\keras\\saving\\saved_model\\save.py\u001b[0m in \u001b[0;36msave\u001b[1;34m(model, filepath, overwrite, include_optimizer, signatures, options)\u001b[0m\n\u001b[0;32m     76\u001b[0m     \u001b[1;31m# we use the default replica context here.\u001b[0m\u001b[1;33m\u001b[0m\u001b[1;33m\u001b[0m\u001b[1;33m\u001b[0m\u001b[0m\n\u001b[0;32m     77\u001b[0m     \u001b[1;32mwith\u001b[0m \u001b[0mdistribution_strategy_context\u001b[0m\u001b[1;33m.\u001b[0m\u001b[0m_get_default_replica_context\u001b[0m\u001b[1;33m(\u001b[0m\u001b[1;33m)\u001b[0m\u001b[1;33m:\u001b[0m  \u001b[1;31m# pylint: disable=protected-access\u001b[0m\u001b[1;33m\u001b[0m\u001b[1;33m\u001b[0m\u001b[0m\n\u001b[1;32m---> 78\u001b[1;33m       \u001b[0msave_lib\u001b[0m\u001b[1;33m.\u001b[0m\u001b[0msave\u001b[0m\u001b[1;33m(\u001b[0m\u001b[0mmodel\u001b[0m\u001b[1;33m,\u001b[0m \u001b[0mfilepath\u001b[0m\u001b[1;33m,\u001b[0m \u001b[0msignatures\u001b[0m\u001b[1;33m,\u001b[0m \u001b[0moptions\u001b[0m\u001b[1;33m)\u001b[0m\u001b[1;33m\u001b[0m\u001b[1;33m\u001b[0m\u001b[0m\n\u001b[0m\u001b[0;32m     79\u001b[0m \u001b[1;33m\u001b[0m\u001b[0m\n\u001b[0;32m     80\u001b[0m   \u001b[1;32mif\u001b[0m \u001b[1;32mnot\u001b[0m \u001b[0minclude_optimizer\u001b[0m\u001b[1;33m:\u001b[0m\u001b[1;33m\u001b[0m\u001b[1;33m\u001b[0m\u001b[0m\n",
      "\u001b[1;32m~\\Anaconda3\\lib\\site-packages\\tensorflow_core\\python\\saved_model\\save.py\u001b[0m in \u001b[0;36msave\u001b[1;34m(obj, export_dir, signatures, options)\u001b[0m\n\u001b[0;32m    914\u001b[0m   \u001b[1;31m# SavedModel proto itself.\u001b[0m\u001b[1;33m\u001b[0m\u001b[1;33m\u001b[0m\u001b[1;33m\u001b[0m\u001b[0m\n\u001b[0;32m    915\u001b[0m   \u001b[0mutils_impl\u001b[0m\u001b[1;33m.\u001b[0m\u001b[0mget_or_create_variables_dir\u001b[0m\u001b[1;33m(\u001b[0m\u001b[0mexport_dir\u001b[0m\u001b[1;33m)\u001b[0m\u001b[1;33m\u001b[0m\u001b[1;33m\u001b[0m\u001b[0m\n\u001b[1;32m--> 916\u001b[1;33m   \u001b[0mobject_saver\u001b[0m\u001b[1;33m.\u001b[0m\u001b[0msave\u001b[0m\u001b[1;33m(\u001b[0m\u001b[0mutils_impl\u001b[0m\u001b[1;33m.\u001b[0m\u001b[0mget_variables_path\u001b[0m\u001b[1;33m(\u001b[0m\u001b[0mexport_dir\u001b[0m\u001b[1;33m)\u001b[0m\u001b[1;33m)\u001b[0m\u001b[1;33m\u001b[0m\u001b[1;33m\u001b[0m\u001b[0m\n\u001b[0m\u001b[0;32m    917\u001b[0m   builder_impl.copy_assets_to_destination_dir(asset_info.asset_filename_map,\n\u001b[0;32m    918\u001b[0m                                               export_dir)\n",
      "\u001b[1;32m~\\Anaconda3\\lib\\site-packages\\tensorflow_core\\python\\training\\tracking\\util.py\u001b[0m in \u001b[0;36msave\u001b[1;34m(self, file_prefix, checkpoint_number, session)\u001b[0m\n\u001b[0;32m   1166\u001b[0m     \u001b[0mfile_io\u001b[0m\u001b[1;33m.\u001b[0m\u001b[0mrecursive_create_dir\u001b[0m\u001b[1;33m(\u001b[0m\u001b[0mos\u001b[0m\u001b[1;33m.\u001b[0m\u001b[0mpath\u001b[0m\u001b[1;33m.\u001b[0m\u001b[0mdirname\u001b[0m\u001b[1;33m(\u001b[0m\u001b[0mfile_prefix\u001b[0m\u001b[1;33m)\u001b[0m\u001b[1;33m)\u001b[0m\u001b[1;33m\u001b[0m\u001b[1;33m\u001b[0m\u001b[0m\n\u001b[0;32m   1167\u001b[0m     save_path, new_feed_additions = self._save_cached_when_graph_building(\n\u001b[1;32m-> 1168\u001b[1;33m         file_prefix=file_prefix_tensor, object_graph_tensor=object_graph_tensor)\n\u001b[0m\u001b[0;32m   1169\u001b[0m     \u001b[1;32mif\u001b[0m \u001b[0mnew_feed_additions\u001b[0m\u001b[1;33m:\u001b[0m\u001b[1;33m\u001b[0m\u001b[1;33m\u001b[0m\u001b[0m\n\u001b[0;32m   1170\u001b[0m       \u001b[0mfeed_dict\u001b[0m\u001b[1;33m.\u001b[0m\u001b[0mupdate\u001b[0m\u001b[1;33m(\u001b[0m\u001b[0mnew_feed_additions\u001b[0m\u001b[1;33m)\u001b[0m\u001b[1;33m\u001b[0m\u001b[1;33m\u001b[0m\u001b[0m\n",
      "\u001b[1;32m~\\Anaconda3\\lib\\site-packages\\tensorflow_core\\python\\training\\tracking\\util.py\u001b[0m in \u001b[0;36m_save_cached_when_graph_building\u001b[1;34m(self, file_prefix, object_graph_tensor)\u001b[0m\n\u001b[0;32m   1114\u001b[0m         or context.executing_eagerly() or ops.inside_function()):\n\u001b[0;32m   1115\u001b[0m       \u001b[0msaver\u001b[0m \u001b[1;33m=\u001b[0m \u001b[0mfunctional_saver\u001b[0m\u001b[1;33m.\u001b[0m\u001b[0mMultiDeviceSaver\u001b[0m\u001b[1;33m(\u001b[0m\u001b[0mnamed_saveable_objects\u001b[0m\u001b[1;33m)\u001b[0m\u001b[1;33m\u001b[0m\u001b[1;33m\u001b[0m\u001b[0m\n\u001b[1;32m-> 1116\u001b[1;33m       \u001b[0msave_op\u001b[0m \u001b[1;33m=\u001b[0m \u001b[0msaver\u001b[0m\u001b[1;33m.\u001b[0m\u001b[0msave\u001b[0m\u001b[1;33m(\u001b[0m\u001b[0mfile_prefix\u001b[0m\u001b[1;33m)\u001b[0m\u001b[1;33m\u001b[0m\u001b[1;33m\u001b[0m\u001b[0m\n\u001b[0m\u001b[0;32m   1117\u001b[0m       \u001b[1;32mwith\u001b[0m \u001b[0mops\u001b[0m\u001b[1;33m.\u001b[0m\u001b[0mdevice\u001b[0m\u001b[1;33m(\u001b[0m\u001b[1;34m\"/cpu:0\"\u001b[0m\u001b[1;33m)\u001b[0m\u001b[1;33m:\u001b[0m\u001b[1;33m\u001b[0m\u001b[1;33m\u001b[0m\u001b[0m\n\u001b[0;32m   1118\u001b[0m         \u001b[1;32mwith\u001b[0m \u001b[0mops\u001b[0m\u001b[1;33m.\u001b[0m\u001b[0mcontrol_dependencies\u001b[0m\u001b[1;33m(\u001b[0m\u001b[1;33m[\u001b[0m\u001b[0msave_op\u001b[0m\u001b[1;33m]\u001b[0m\u001b[1;33m)\u001b[0m\u001b[1;33m:\u001b[0m\u001b[1;33m\u001b[0m\u001b[1;33m\u001b[0m\u001b[0m\n",
      "\u001b[1;32m~\\Anaconda3\\lib\\site-packages\\tensorflow_core\\python\\training\\saving\\functional_saver.py\u001b[0m in \u001b[0;36msave\u001b[1;34m(self, file_prefix)\u001b[0m\n\u001b[0;32m    228\u001b[0m         \u001b[1;31m# _SingleDeviceSaver will use the CPU device when necessary, but initial\u001b[0m\u001b[1;33m\u001b[0m\u001b[1;33m\u001b[0m\u001b[1;33m\u001b[0m\u001b[0m\n\u001b[0;32m    229\u001b[0m         \u001b[1;31m# read operations should be placed on the SaveableObject's device.\u001b[0m\u001b[1;33m\u001b[0m\u001b[1;33m\u001b[0m\u001b[1;33m\u001b[0m\u001b[0m\n\u001b[1;32m--> 230\u001b[1;33m         \u001b[0msharded_saves\u001b[0m\u001b[1;33m.\u001b[0m\u001b[0mappend\u001b[0m\u001b[1;33m(\u001b[0m\u001b[0msaver\u001b[0m\u001b[1;33m.\u001b[0m\u001b[0msave\u001b[0m\u001b[1;33m(\u001b[0m\u001b[0mshard_prefix\u001b[0m\u001b[1;33m)\u001b[0m\u001b[1;33m)\u001b[0m\u001b[1;33m\u001b[0m\u001b[1;33m\u001b[0m\u001b[0m\n\u001b[0m\u001b[0;32m    231\u001b[0m \u001b[1;33m\u001b[0m\u001b[0m\n\u001b[0;32m    232\u001b[0m     \u001b[1;32mwith\u001b[0m \u001b[0mops\u001b[0m\u001b[1;33m.\u001b[0m\u001b[0mcontrol_dependencies\u001b[0m\u001b[1;33m(\u001b[0m\u001b[0msharded_saves\u001b[0m\u001b[1;33m)\u001b[0m\u001b[1;33m:\u001b[0m\u001b[1;33m\u001b[0m\u001b[1;33m\u001b[0m\u001b[0m\n",
      "\u001b[1;32m~\\Anaconda3\\lib\\site-packages\\tensorflow_core\\python\\training\\saving\\functional_saver.py\u001b[0m in \u001b[0;36msave\u001b[1;34m(self, file_prefix)\u001b[0m\n\u001b[0;32m     67\u001b[0m       \u001b[1;32mfor\u001b[0m \u001b[0mspec\u001b[0m \u001b[1;32min\u001b[0m \u001b[0msaveable\u001b[0m\u001b[1;33m.\u001b[0m\u001b[0mspecs\u001b[0m\u001b[1;33m:\u001b[0m\u001b[1;33m\u001b[0m\u001b[1;33m\u001b[0m\u001b[0m\n\u001b[0;32m     68\u001b[0m         \u001b[0mtensor_names\u001b[0m\u001b[1;33m.\u001b[0m\u001b[0mappend\u001b[0m\u001b[1;33m(\u001b[0m\u001b[0mspec\u001b[0m\u001b[1;33m.\u001b[0m\u001b[0mname\u001b[0m\u001b[1;33m)\u001b[0m\u001b[1;33m\u001b[0m\u001b[1;33m\u001b[0m\u001b[0m\n\u001b[1;32m---> 69\u001b[1;33m         \u001b[0mtensors\u001b[0m\u001b[1;33m.\u001b[0m\u001b[0mappend\u001b[0m\u001b[1;33m(\u001b[0m\u001b[0mspec\u001b[0m\u001b[1;33m.\u001b[0m\u001b[0mtensor\u001b[0m\u001b[1;33m)\u001b[0m\u001b[1;33m\u001b[0m\u001b[1;33m\u001b[0m\u001b[0m\n\u001b[0m\u001b[0;32m     70\u001b[0m         \u001b[0mtensor_slices\u001b[0m\u001b[1;33m.\u001b[0m\u001b[0mappend\u001b[0m\u001b[1;33m(\u001b[0m\u001b[0mspec\u001b[0m\u001b[1;33m.\u001b[0m\u001b[0mslice_spec\u001b[0m\u001b[1;33m)\u001b[0m\u001b[1;33m\u001b[0m\u001b[1;33m\u001b[0m\u001b[0m\n\u001b[0;32m     71\u001b[0m     \u001b[1;32mwith\u001b[0m \u001b[0mops\u001b[0m\u001b[1;33m.\u001b[0m\u001b[0mdevice\u001b[0m\u001b[1;33m(\u001b[0m\u001b[1;34m\"cpu:0\"\u001b[0m\u001b[1;33m)\u001b[0m\u001b[1;33m:\u001b[0m\u001b[1;33m\u001b[0m\u001b[1;33m\u001b[0m\u001b[0m\n",
      "\u001b[1;32m~\\Anaconda3\\lib\\site-packages\\tensorflow_core\\python\\training\\saving\\saveable_object.py\u001b[0m in \u001b[0;36mtensor\u001b[1;34m(self)\u001b[0m\n\u001b[0;32m     50\u001b[0m   \u001b[1;33m@\u001b[0m\u001b[0mproperty\u001b[0m\u001b[1;33m\u001b[0m\u001b[1;33m\u001b[0m\u001b[0m\n\u001b[0;32m     51\u001b[0m   \u001b[1;32mdef\u001b[0m \u001b[0mtensor\u001b[0m\u001b[1;33m(\u001b[0m\u001b[0mself\u001b[0m\u001b[1;33m)\u001b[0m\u001b[1;33m:\u001b[0m\u001b[1;33m\u001b[0m\u001b[1;33m\u001b[0m\u001b[0m\n\u001b[1;32m---> 52\u001b[1;33m     \u001b[1;32mreturn\u001b[0m \u001b[0mself\u001b[0m\u001b[1;33m.\u001b[0m\u001b[0m_tensor\u001b[0m\u001b[1;33m(\u001b[0m\u001b[1;33m)\u001b[0m \u001b[1;32mif\u001b[0m \u001b[0mcallable\u001b[0m\u001b[1;33m(\u001b[0m\u001b[0mself\u001b[0m\u001b[1;33m.\u001b[0m\u001b[0m_tensor\u001b[0m\u001b[1;33m)\u001b[0m \u001b[1;32melse\u001b[0m \u001b[0mself\u001b[0m\u001b[1;33m.\u001b[0m\u001b[0m_tensor\u001b[0m\u001b[1;33m\u001b[0m\u001b[1;33m\u001b[0m\u001b[0m\n\u001b[0m\u001b[0;32m     53\u001b[0m \u001b[1;33m\u001b[0m\u001b[0m\n\u001b[0;32m     54\u001b[0m \u001b[1;33m\u001b[0m\u001b[0m\n",
      "\u001b[1;32m~\\Anaconda3\\lib\\site-packages\\tensorflow_core\\python\\training\\saving\\saveable_object_util.py\u001b[0m in \u001b[0;36mf\u001b[1;34m()\u001b[0m\n\u001b[0;32m     89\u001b[0m         \u001b[1;32mdef\u001b[0m \u001b[0mf\u001b[0m\u001b[1;33m(\u001b[0m\u001b[1;33m)\u001b[0m\u001b[1;33m:\u001b[0m\u001b[1;33m\u001b[0m\u001b[1;33m\u001b[0m\u001b[0m\n\u001b[0;32m     90\u001b[0m           \u001b[1;32mwith\u001b[0m \u001b[0mops\u001b[0m\u001b[1;33m.\u001b[0m\u001b[0mdevice\u001b[0m\u001b[1;33m(\u001b[0m\u001b[0mv\u001b[0m\u001b[1;33m.\u001b[0m\u001b[0mdevice\u001b[0m\u001b[1;33m)\u001b[0m\u001b[1;33m:\u001b[0m\u001b[1;33m\u001b[0m\u001b[1;33m\u001b[0m\u001b[0m\n\u001b[1;32m---> 91\u001b[1;33m             \u001b[0mx\u001b[0m \u001b[1;33m=\u001b[0m \u001b[0mv\u001b[0m\u001b[1;33m.\u001b[0m\u001b[0mread_value\u001b[0m\u001b[1;33m(\u001b[0m\u001b[1;33m)\u001b[0m\u001b[1;33m\u001b[0m\u001b[1;33m\u001b[0m\u001b[0m\n\u001b[0m\u001b[0;32m     92\u001b[0m             \u001b[1;31m# To allow variables placed on non-CPU devices to be checkpointed,\u001b[0m\u001b[1;33m\u001b[0m\u001b[1;33m\u001b[0m\u001b[1;33m\u001b[0m\u001b[0m\n\u001b[0;32m     93\u001b[0m             \u001b[1;31m# we copy them to CPU on the same machine first.\u001b[0m\u001b[1;33m\u001b[0m\u001b[1;33m\u001b[0m\u001b[1;33m\u001b[0m\u001b[0m\n",
      "\u001b[1;32m~\\Anaconda3\\lib\\site-packages\\tensorflow_core\\python\\ops\\resource_variable_ops.py\u001b[0m in \u001b[0;36mread_value\u001b[1;34m(self)\u001b[0m\n\u001b[0;32m    633\u001b[0m     \"\"\"\n\u001b[0;32m    634\u001b[0m     \u001b[1;32mwith\u001b[0m \u001b[0mops\u001b[0m\u001b[1;33m.\u001b[0m\u001b[0mname_scope\u001b[0m\u001b[1;33m(\u001b[0m\u001b[1;34m\"Read\"\u001b[0m\u001b[1;33m)\u001b[0m\u001b[1;33m:\u001b[0m\u001b[1;33m\u001b[0m\u001b[1;33m\u001b[0m\u001b[0m\n\u001b[1;32m--> 635\u001b[1;33m       \u001b[0mvalue\u001b[0m \u001b[1;33m=\u001b[0m \u001b[0mself\u001b[0m\u001b[1;33m.\u001b[0m\u001b[0m_read_variable_op\u001b[0m\u001b[1;33m(\u001b[0m\u001b[1;33m)\u001b[0m\u001b[1;33m\u001b[0m\u001b[1;33m\u001b[0m\u001b[0m\n\u001b[0m\u001b[0;32m    636\u001b[0m     \u001b[1;31m# Return an identity so it can get placed on whatever device the context\u001b[0m\u001b[1;33m\u001b[0m\u001b[1;33m\u001b[0m\u001b[1;33m\u001b[0m\u001b[0m\n\u001b[0;32m    637\u001b[0m     \u001b[1;31m# specifies instead of the device where the variable is.\u001b[0m\u001b[1;33m\u001b[0m\u001b[1;33m\u001b[0m\u001b[1;33m\u001b[0m\u001b[0m\n",
      "\u001b[1;32m~\\Anaconda3\\lib\\site-packages\\tensorflow_core\\python\\ops\\resource_variable_ops.py\u001b[0m in \u001b[0;36m_read_variable_op\u001b[1;34m(self)\u001b[0m\n\u001b[0;32m    611\u001b[0m     \u001b[0mvariable_accessed\u001b[0m\u001b[1;33m(\u001b[0m\u001b[0mself\u001b[0m\u001b[1;33m)\u001b[0m\u001b[1;33m\u001b[0m\u001b[1;33m\u001b[0m\u001b[0m\n\u001b[0;32m    612\u001b[0m     result = gen_resource_variable_ops.read_variable_op(self._handle,\n\u001b[1;32m--> 613\u001b[1;33m                                                         self._dtype)\n\u001b[0m\u001b[0;32m    614\u001b[0m     \u001b[0m_maybe_set_handle_data\u001b[0m\u001b[1;33m(\u001b[0m\u001b[0mself\u001b[0m\u001b[1;33m.\u001b[0m\u001b[0m_dtype\u001b[0m\u001b[1;33m,\u001b[0m \u001b[0mself\u001b[0m\u001b[1;33m.\u001b[0m\u001b[0m_handle\u001b[0m\u001b[1;33m,\u001b[0m \u001b[0mresult\u001b[0m\u001b[1;33m)\u001b[0m\u001b[1;33m\u001b[0m\u001b[1;33m\u001b[0m\u001b[0m\n\u001b[0;32m    615\u001b[0m \u001b[1;33m\u001b[0m\u001b[0m\n",
      "\u001b[1;32m~\\Anaconda3\\lib\\site-packages\\tensorflow_core\\python\\ops\\gen_resource_variable_ops.py\u001b[0m in \u001b[0;36mread_variable_op\u001b[1;34m(resource, dtype, name)\u001b[0m\n\u001b[0;32m    481\u001b[0m   \u001b[0mdtype\u001b[0m \u001b[1;33m=\u001b[0m \u001b[0m_execute\u001b[0m\u001b[1;33m.\u001b[0m\u001b[0mmake_type\u001b[0m\u001b[1;33m(\u001b[0m\u001b[0mdtype\u001b[0m\u001b[1;33m,\u001b[0m \u001b[1;34m\"dtype\"\u001b[0m\u001b[1;33m)\u001b[0m\u001b[1;33m\u001b[0m\u001b[1;33m\u001b[0m\u001b[0m\n\u001b[0;32m    482\u001b[0m   _, _, _op, _outputs = _op_def_library._apply_op_helper(\n\u001b[1;32m--> 483\u001b[1;33m         \"ReadVariableOp\", resource=resource, dtype=dtype, name=name)\n\u001b[0m\u001b[0;32m    484\u001b[0m   \u001b[0m_result\u001b[0m \u001b[1;33m=\u001b[0m \u001b[0m_outputs\u001b[0m\u001b[1;33m[\u001b[0m\u001b[1;33m:\u001b[0m\u001b[1;33m]\u001b[0m\u001b[1;33m\u001b[0m\u001b[1;33m\u001b[0m\u001b[0m\n\u001b[0;32m    485\u001b[0m   \u001b[1;32mif\u001b[0m \u001b[0m_execute\u001b[0m\u001b[1;33m.\u001b[0m\u001b[0mmust_record_gradient\u001b[0m\u001b[1;33m(\u001b[0m\u001b[1;33m)\u001b[0m\u001b[1;33m:\u001b[0m\u001b[1;33m\u001b[0m\u001b[1;33m\u001b[0m\u001b[0m\n",
      "\u001b[1;32m~\\Anaconda3\\lib\\site-packages\\tensorflow_core\\python\\framework\\op_def_library.py\u001b[0m in \u001b[0;36m_apply_op_helper\u001b[1;34m(op_type_name, name, **keywords)\u001b[0m\n\u001b[0;32m    466\u001b[0m               \u001b[0mdtype\u001b[0m\u001b[1;33m=\u001b[0m\u001b[0mdtype\u001b[0m\u001b[1;33m,\u001b[0m\u001b[1;33m\u001b[0m\u001b[1;33m\u001b[0m\u001b[0m\n\u001b[0;32m    467\u001b[0m               \u001b[0mas_ref\u001b[0m\u001b[1;33m=\u001b[0m\u001b[0minput_arg\u001b[0m\u001b[1;33m.\u001b[0m\u001b[0mis_ref\u001b[0m\u001b[1;33m,\u001b[0m\u001b[1;33m\u001b[0m\u001b[1;33m\u001b[0m\u001b[0m\n\u001b[1;32m--> 468\u001b[1;33m               preferred_dtype=default_dtype)\n\u001b[0m\u001b[0;32m    469\u001b[0m         \u001b[1;32mexcept\u001b[0m \u001b[0mTypeError\u001b[0m \u001b[1;32mas\u001b[0m \u001b[0merr\u001b[0m\u001b[1;33m:\u001b[0m\u001b[1;33m\u001b[0m\u001b[1;33m\u001b[0m\u001b[0m\n\u001b[0;32m    470\u001b[0m           \u001b[1;32mif\u001b[0m \u001b[0mdtype\u001b[0m \u001b[1;32mis\u001b[0m \u001b[1;32mNone\u001b[0m\u001b[1;33m:\u001b[0m\u001b[1;33m\u001b[0m\u001b[1;33m\u001b[0m\u001b[0m\n",
      "\u001b[1;32m~\\Anaconda3\\lib\\site-packages\\tensorflow_core\\python\\framework\\ops.py\u001b[0m in \u001b[0;36mconvert_to_tensor\u001b[1;34m(value, dtype, name, as_ref, preferred_dtype, dtype_hint, ctx, accepted_result_types)\u001b[0m\n\u001b[0;32m   1278\u001b[0m       \u001b[0mgraph\u001b[0m \u001b[1;33m=\u001b[0m \u001b[0mget_default_graph\u001b[0m\u001b[1;33m(\u001b[0m\u001b[1;33m)\u001b[0m\u001b[1;33m\u001b[0m\u001b[1;33m\u001b[0m\u001b[0m\n\u001b[0;32m   1279\u001b[0m       \u001b[1;32mif\u001b[0m \u001b[1;32mnot\u001b[0m \u001b[0mgraph\u001b[0m\u001b[1;33m.\u001b[0m\u001b[0mbuilding_function\u001b[0m\u001b[1;33m:\u001b[0m\u001b[1;33m\u001b[0m\u001b[1;33m\u001b[0m\u001b[0m\n\u001b[1;32m-> 1280\u001b[1;33m         raise RuntimeError(\"Attempting to capture an EagerTensor without \"\n\u001b[0m\u001b[0;32m   1281\u001b[0m                            \"building a function.\")\n\u001b[0;32m   1282\u001b[0m       \u001b[1;32mreturn\u001b[0m \u001b[0mgraph\u001b[0m\u001b[1;33m.\u001b[0m\u001b[0mcapture\u001b[0m\u001b[1;33m(\u001b[0m\u001b[0mvalue\u001b[0m\u001b[1;33m,\u001b[0m \u001b[0mname\u001b[0m\u001b[1;33m=\u001b[0m\u001b[0mname\u001b[0m\u001b[1;33m)\u001b[0m\u001b[1;33m\u001b[0m\u001b[1;33m\u001b[0m\u001b[0m\n",
      "\u001b[1;31mRuntimeError\u001b[0m: Attempting to capture an EagerTensor without building a function."
     ]
    }
   ],
   "source": [
    "q_model.save('term')\n",
    "\n"
   ]
  },
  {
   "cell_type": "code",
   "execution_count": null,
   "metadata": {},
   "outputs": [],
   "source": [
    "\n"
   ]
  },
  {
   "cell_type": "code",
   "execution_count": null,
   "metadata": {
    "colab": {},
    "colab_type": "code",
    "id": "91lTtY82eIh8"
   },
   "outputs": [],
   "source": [
    "import matplotlib.pyplot as plt\n",
    "\n",
    "plt.style.use(\"seaborn\")\n",
    "fig, (ax1, ax2) = plt.subplots(2, 1, figsize=(6, 9))\n",
    "\n",
    "ax1.plot(q_history.history[\"val_accuracy\"], \"-ob\", label=\"With quantum layer\")\n",
    "ax1.plot(c_history.history[\"val_accuracy\"], \"-og\", label=\"Without quantum layer\")\n",
    "ax1.set_ylabel(\"Accuracy\")\n",
    "ax1.set_ylim([0, 1])\n",
    "ax1.set_xlabel(\"Epoch\")\n",
    "ax1.legend()\n",
    "\n",
    "ax2.plot(q_history.history[\"val_loss\"], \"-ob\", label=\"With quantum layer\")\n",
    "ax2.plot(c_history.history[\"val_loss\"], \"-og\", label=\"Without quantum layer\")\n",
    "ax2.set_ylabel(\"Loss\")\n",
    "ax2.set_ylim(top=2.5)\n",
    "ax2.set_xlabel(\"Epoch\")\n",
    "ax2.legend()\n",
    "plt.tight_layout()\n",
    "plt.show()"
   ]
  },
  {
   "cell_type": "code",
   "execution_count": null,
   "metadata": {},
   "outputs": [],
   "source": [
    "\n",
    "\"\"\"\n",
    "tf.compat.v1.disable_eager_execution() # need to disable eager in TF2.x\n",
    "# Build a graph.\n",
    "a = tf.constant(5.0)\n",
    "b = tf.constant(6.0)\n",
    "c = a * b\n",
    "\n",
    "# Launch the graph in a session.\n",
    "sess = tf.compat.v1.Session()\n",
    "\n",
    "# Evaluate the tensor `c`.\n",
    "print(sess.run(c)) # prints 30.0\n",
    "\"\"\""
   ]
  },
  {
   "cell_type": "code",
   "execution_count": null,
   "metadata": {},
   "outputs": [],
   "source": [
    "[n.name for n in tf.get_default_graph().as_graph_def().node]"
   ]
  },
  {
   "cell_type": "code",
   "execution_count": null,
   "metadata": {
    "colab": {},
    "colab_type": "code",
    "id": "t_qJX7Ab9Zfr"
   },
   "outputs": [],
   "source": [
    "import tensorflow as tf\n",
    "import tensorflow.compat.v1 as tf\n",
    "\n",
    "from tensorflow.python.framework import graph_io\n",
    "frozen = tf.graph_util.convert_variables_to_constants(sess, sess.graph_def, [n.name for n in tf.get_default_graph().as_graph_def().node])\n",
    "graph_io.write_graph(frozen, './', 'inference_graph.pb', as_text=False)"
   ]
  },
  {
   "cell_type": "code",
   "execution_count": null,
   "metadata": {},
   "outputs": [],
   "source": [
    "sess=tf.compat.v1.Session()\n"
   ]
  },
  {
   "cell_type": "markdown",
   "metadata": {
    "colab_type": "text",
    "id": "-3qYkXPolK72"
   },
   "source": [
    "**References**\n",
    "\n",
    "\n",
    "*   https://pennylane.ai/qml/demos/tutorial_quanvolution.html\n",
    "\n",
    "*   \n",
    "Maxwell Henderson, Samriddhi Shakya, Shashindra Pradhan, Tristan Cook. “Quanvolutional Neural Networks: Powering Image Recognition with Quantum Circuits.” arXiv:1904.04767, 2019.\n",
    "\n",
    "\n",
    "\n"
   ]
  },
  {
   "cell_type": "code",
   "execution_count": null,
   "metadata": {},
   "outputs": [],
   "source": [
    "import tensorflow as tf\n",
    "import tensorflow.compat.v1 as tf\n",
    "sess=tf.compat.v1.Session()\n",
    "\n",
    "from tensorflow.python.framework import graph_io\n",
    "frozen = tf.graph_util.convert_variables_to_constants(sess, sess.graph_def, [n.name for n in tf.get_default_graph().as_graph_def().node])\n",
    "graph_io.write_graph(frozen, './', 'inference_graph.pb', as_text=False)"
   ]
  },
  {
   "cell_type": "code",
   "execution_count": null,
   "metadata": {},
   "outputs": [],
   "source": []
  },
  {
   "cell_type": "code",
   "execution_count": null,
   "metadata": {},
   "outputs": [],
   "source": []
  },
  {
   "cell_type": "code",
   "execution_count": null,
   "metadata": {},
   "outputs": [],
   "source": []
  },
  {
   "cell_type": "code",
   "execution_count": null,
   "metadata": {},
   "outputs": [],
   "source": []
  },
  {
   "cell_type": "code",
   "execution_count": null,
   "metadata": {},
   "outputs": [],
   "source": []
  },
  {
   "cell_type": "code",
   "execution_count": null,
   "metadata": {},
   "outputs": [],
   "source": []
  },
  {
   "cell_type": "code",
   "execution_count": null,
   "metadata": {},
   "outputs": [],
   "source": []
  },
  {
   "cell_type": "code",
   "execution_count": null,
   "metadata": {},
   "outputs": [],
   "source": []
  },
  {
   "cell_type": "code",
   "execution_count": null,
   "metadata": {},
   "outputs": [],
   "source": []
  },
  {
   "cell_type": "code",
   "execution_count": null,
   "metadata": {},
   "outputs": [],
   "source": []
  },
  {
   "cell_type": "code",
   "execution_count": null,
   "metadata": {},
   "outputs": [],
   "source": []
  },
  {
   "cell_type": "code",
   "execution_count": null,
   "metadata": {},
   "outputs": [],
   "source": []
  }
 ],
 "metadata": {
  "colab": {
   "collapsed_sections": [],
   "name": "QNN_v1.ipynb",
   "provenance": []
  },
  "kernelspec": {
   "display_name": "Python 3",
   "language": "python",
   "name": "python3"
  },
  "language_info": {
   "codemirror_mode": {
    "name": "ipython",
    "version": 3
   },
   "file_extension": ".py",
   "mimetype": "text/x-python",
   "name": "python",
   "nbconvert_exporter": "python",
   "pygments_lexer": "ipython3",
   "version": "3.8.5"
  }
 },
 "nbformat": 4,
 "nbformat_minor": 1
}
